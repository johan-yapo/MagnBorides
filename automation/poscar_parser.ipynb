{
 "cells": [
  {
   "cell_type": "markdown",
   "metadata": {},
   "source": [
    "# Imports"
   ]
  },
  {
   "cell_type": "code",
   "execution_count": 80,
   "metadata": {},
   "outputs": [],
   "source": [
    "import re"
   ]
  },
  {
   "cell_type": "markdown",
   "metadata": {},
   "source": [
    "# Utility Functions"
   ]
  },
  {
   "cell_type": "code",
   "execution_count": 81,
   "metadata": {},
   "outputs": [],
   "source": [
    "def parse_formula(formula):\n",
    "    pattern = r'([A-Z][a-z]*)(\\d*)'\n",
    "    matches = re.findall(pattern, formula)\n",
    "    elements_counts = [(element, int(count) if count else 1)\n",
    "                       for element, count in matches]\n",
    "    return elements_counts"
   ]
  },
  {
   "cell_type": "code",
   "execution_count": 82,
   "metadata": {},
   "outputs": [],
   "source": [
    "def read_file(file_path):\n",
    "    try:\n",
    "        with open(file_path, 'r') as file:\n",
    "            contents = file.read()\n",
    "            return contents\n",
    "    except FileNotFoundError:\n",
    "        print(f\"The file at {file_path} was not found.\")\n",
    "    except Exception as e:\n",
    "        print(f\"An error occurred: {e}\")"
   ]
  },
  {
   "cell_type": "code",
   "execution_count": 83,
   "metadata": {},
   "outputs": [],
   "source": [
    "sample_poscar = read_file('./data/Ti3Co5B2 POSCAR')"
   ]
  },
  {
   "cell_type": "code",
   "execution_count": 84,
   "metadata": {},
   "outputs": [
    {
     "name": "stdout",
     "output_type": "stream",
     "text": [
      "Titanium cobalt boride (3/5/2)\n",
      "1.0\n",
      "        8.4890003204         0.0000000000         0.0000000000\n",
      "        0.0000000000         8.4890003204         0.0000000000\n",
      "        0.0000000000         0.0000000000         3.0380001068\n",
      "   Ti   Co    B\n",
      "    6   10    4\n",
      "Cartesian\n",
      "     0.000000000         0.000000000         0.000000000\n",
      "     4.244500160         4.244500160         0.000000000\n",
      "     2.775902987         7.020403385         0.000000000\n",
      "     5.713097095         1.468596816         0.000000000\n",
      "     1.468596816         2.775902987         0.000000000\n",
      "     7.020403385         5.713097095         0.000000000\n",
      "     0.000000000         4.244500160         1.519000053\n",
      "     4.244500160         0.000000000         1.519000053\n",
      "     1.884558082         0.577252030         1.519000053\n",
      "     6.604442120         7.911747932         1.519000053\n",
      "     7.911747932         1.884558082         1.519000053\n",
      "     0.577252030         6.604442120         1.519000053\n",
      "     2.359941959         4.821752548         1.519000053\n",
      "     6.129058361         3.667248011         1.519000053\n",
      "     4.821752548         6.129058361         1.519000053\n",
      "     3.667248011         2.359941959         1.519000053\n",
      "     0.976235032         5.220735073         0.000000000\n",
      "     7.512765408         3.268265009         0.000000000\n",
      "     3.268265009         0.976235032         0.000000000\n",
      "     5.220735073         7.512765408         0.000000000\n",
      "\n"
     ]
    }
   ],
   "source": [
    "print(sample_poscar)"
   ]
  },
  {
   "cell_type": "code",
   "execution_count": 85,
   "metadata": {},
   "outputs": [],
   "source": [
    "poscar_start = '''Titanium cobalt boride (3/5/2)\n",
    "1.0\n",
    "        8.4890003204         0.0000000000         0.0000000000\n",
    "        0.0000000000         8.4890003204         0.0000000000\n",
    "        0.0000000000         0.0000000000         3.0380001068\n",
    "'''"
   ]
  },
  {
   "cell_type": "code",
   "execution_count": 86,
   "metadata": {},
   "outputs": [],
   "source": [
    "poscar_end = '''\n",
    "Cartesian\n",
    "     0.000000000         0.000000000         0.000000000\n",
    "     4.244500160         4.244500160         0.000000000\n",
    "     2.775902987         7.020403385         0.000000000\n",
    "     5.713097095         1.468596816         0.000000000\n",
    "     1.468596816         2.775902987         0.000000000\n",
    "     7.020403385         5.713097095         0.000000000\n",
    "     0.000000000         4.244500160         1.519000053\n",
    "     4.244500160         0.000000000         1.519000053\n",
    "     1.884558082         0.577252030         1.519000053\n",
    "     6.604442120         7.911747932         1.519000053\n",
    "     7.911747932         1.884558082         1.519000053\n",
    "     0.577252030         6.604442120         1.519000053\n",
    "     2.359941959         4.821752548         1.519000053\n",
    "     6.129058361         3.667248011         1.519000053\n",
    "     4.821752548         6.129058361         1.519000053\n",
    "     3.667248011         2.359941959         1.519000053\n",
    "     0.976235032         5.220735073         0.000000000\n",
    "     7.512765408         3.268265009         0.000000000\n",
    "     3.268265009         0.976235032         0.000000000\n",
    "     5.220735073         7.512765408         0.000000000'''"
   ]
  },
  {
   "cell_type": "markdown",
   "metadata": {},
   "source": [
    "# Parser"
   ]
  },
  {
   "cell_type": "code",
   "execution_count": 87,
   "metadata": {},
   "outputs": [],
   "source": [
    "new_formula = 'CoFe3HfReIr2B2'"
   ]
  },
  {
   "cell_type": "code",
   "execution_count": 88,
   "metadata": {},
   "outputs": [
    {
     "data": {
      "text/plain": [
       "[('Co', 1), ('Fe', 3), ('Hf', 1), ('Re', 1), ('Ir', 2), ('B', 2)]"
      ]
     },
     "execution_count": 88,
     "metadata": {},
     "output_type": "execute_result"
    }
   ],
   "source": [
    "parsed_formula = parse_formula(new_formula)\n",
    "parsed_formula"
   ]
  },
  {
   "cell_type": "code",
   "execution_count": 89,
   "metadata": {},
   "outputs": [
    {
     "name": "stdout",
     "output_type": "stream",
     "text": [
      "   Co   Fe   Hf   Re   Ir   B\n",
      "   2   6   2   2   4   4\n"
     ]
    }
   ],
   "source": [
    "element_line = \"\"\n",
    "count_line = \"\"\n",
    "\n",
    "for i in range(len(parsed_formula)):\n",
    "    element_line += (\"   \" + parsed_formula[i][0])\n",
    "    count_line += (\"   \" + str(parsed_formula[i][1]*2))\n",
    "\n",
    "print(element_line)\n",
    "print(count_line)"
   ]
  },
  {
   "cell_type": "code",
   "execution_count": 90,
   "metadata": {},
   "outputs": [
    {
     "data": {
      "text/plain": [
       "'Titanium cobalt boride (3/5/2)\\n1.0\\n        8.4890003204         0.0000000000         0.0000000000\\n        0.0000000000         8.4890003204         0.0000000000\\n        0.0000000000         0.0000000000         3.0380001068\\n   Co   Fe   Hf   Re   Ir   B\\n   2   6   2   2   4   4\\nCartesian\\n     0.000000000         0.000000000         0.000000000\\n     4.244500160         4.244500160         0.000000000\\n     2.775902987         7.020403385         0.000000000\\n     5.713097095         1.468596816         0.000000000\\n     1.468596816         2.775902987         0.000000000\\n     7.020403385         5.713097095         0.000000000\\n     0.000000000         4.244500160         1.519000053\\n     4.244500160         0.000000000         1.519000053\\n     1.884558082         0.577252030         1.519000053\\n     6.604442120         7.911747932         1.519000053\\n     7.911747932         1.884558082         1.519000053\\n     0.577252030         6.604442120         1.519000053\\n     2.359941959         4.821752548         1.519000053\\n     6.129058361         3.667248011         1.519000053\\n     4.821752548         6.129058361         1.519000053\\n     3.667248011         2.359941959         1.519000053\\n     0.976235032         5.220735073         0.000000000\\n     7.512765408         3.268265009         0.000000000\\n     3.268265009         0.976235032         0.000000000\\n     5.220735073         7.512765408         0.000000000'"
      ]
     },
     "execution_count": 90,
     "metadata": {},
     "output_type": "execute_result"
    }
   ],
   "source": [
    "new_poscar = poscar_start + element_line + '\\n' + count_line + poscar_end\n",
    "new_poscar"
   ]
  },
  {
   "cell_type": "markdown",
   "metadata": {},
   "source": [
    "# Save POSCAR file"
   ]
  },
  {
   "cell_type": "code",
   "execution_count": 91,
   "metadata": {},
   "outputs": [
    {
     "name": "stdout",
     "output_type": "stream",
     "text": [
      "Textarea content has been saved to ./output/CoFe3HfReIr2B2 POSCAR\n"
     ]
    }
   ],
   "source": [
    "file_path = './output/' + new_formula + \" POSCAR\"\n",
    "\n",
    "with open(file_path, 'w') as file:\n",
    "    file.write(new_poscar)\n",
    "\n",
    "print(f\"Textarea content has been saved to {file_path}\")"
   ]
  }
 ],
 "metadata": {
  "kernelspec": {
   "display_name": "env",
   "language": "python",
   "name": "python3"
  },
  "language_info": {
   "codemirror_mode": {
    "name": "ipython",
    "version": 3
   },
   "file_extension": ".py",
   "mimetype": "text/x-python",
   "name": "python",
   "nbconvert_exporter": "python",
   "pygments_lexer": "ipython3",
   "version": "3.10.4"
  }
 },
 "nbformat": 4,
 "nbformat_minor": 2
}
