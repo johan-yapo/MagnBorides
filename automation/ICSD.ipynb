{
 "cells": [
  {
   "cell_type": "markdown",
   "metadata": {},
   "source": [
    "# Imports"
   ]
  },
  {
   "cell_type": "code",
   "execution_count": 70,
   "metadata": {},
   "outputs": [],
   "source": [
    "import requests\n",
    "from bs4 import BeautifulSoup"
   ]
  },
  {
   "cell_type": "markdown",
   "metadata": {},
   "source": [
    "# API Creation"
   ]
  },
  {
   "cell_type": "code",
   "execution_count": 71,
   "metadata": {},
   "outputs": [],
   "source": [
    "def get_view_state(session, url):\n",
    "    response = session.get(url)\n",
    "    soup = BeautifulSoup(response.text, 'html.parser')\n",
    "    view_state_input = soup.find('input', {'name': 'jakarta.faces.ViewState'})\n",
    "    if view_state_input:\n",
    "        return view_state_input['value']\n",
    "    else:\n",
    "        raise ValueError(\"ViewState not found on the page\")"
   ]
  },
  {
   "cell_type": "code",
   "execution_count": 72,
   "metadata": {},
   "outputs": [],
   "source": [
    "def query_icsd(structure_query, unique_elements_num, space_group_num):\n",
    "    session = requests.Session()\n",
    "\n",
    "    query_url = 'https://icsd.fiz-karlsruhe.de/search/basic.xhtml'\n",
    "    list_url = 'https://icsd.fiz-karlsruhe.de/display/list.xhtml'\n",
    "\n",
    "    view_state = get_view_state(session, query_url)\n",
    "\n",
    "    payload = {\n",
    "        'content_form': 'content_form',\n",
    "        'content_form:loginId': '',\n",
    "        'content_form:password': '',\n",
    "        'content_form:uiSelectContent': 'EXPERIMENTAL_INORGANIC',\n",
    "        'content_form:uiSimpleSearch:input': '',\n",
    "        'content_form:uiBibliographyAuthors:input_input': '',\n",
    "        'content_form:uiBibliographyAuthors:input_hinput': '',\n",
    "        'content_form:uiBibliographyPublicationYear:input:input': '',\n",
    "        'content_form:uiBibliographyJournals:input_input': '',\n",
    "        'content_form:uiBibliographyJournals:input_hinput': '',\n",
    "        'content_form:uiBibliographyArticles:input_input': '',\n",
    "        'content_form:uiBibliographyArticles:input_hinput': '',\n",
    "        'content_form:uiBibliographyDoi:input_input': '',\n",
    "        'content_form:uiBibliographyDoi:input_hinput': '',\n",
    "        'content_form:uiChemistrySearchSumForm:input': structure_query,\n",
    "        'content_form:uiChemistrySearchElCount:input:input': unique_elements_num,\n",
    "        'content_form:uiCellParameter:input': '',\n",
    "        'content_form:uiCellVolume:input:input': '',\n",
    "        'content_form:uiCellGlobalTolerance:input:input': '',\n",
    "        'content_form:uiSymmetrySpaceGroupSymbol:input_input': '',\n",
    "        'content_form:uiSymmetrySpaceGroupSymbol:input_hinput': '',\n",
    "        'content_form:uiSymmetrySpaceGroupNumber:input:input': space_group_num,\n",
    "        'content_form:uiSymmetryCrystalSystem:input_input': '',\n",
    "        'content_form:uiSymmetryCentering:input_input': '',\n",
    "        'content_form:uiPDFNumber:input_input': '',\n",
    "        'content_form:uiPDFNumber:input_hinput': '',\n",
    "        'content_form:uiExperimentalTemperature:input:input': '',\n",
    "        'content_form:uiExperimentalTemperatureUnit:input_input': 'k',\n",
    "        'content_form:uiCodeCollection:input:input': '',\n",
    "        'content_form:uiExperimentalPressure:input:input': '',\n",
    "        'content_form:uiExperimentalPressureUnit:input_input': 'mpa',\n",
    "        'content_form:btnRunQuery': '',\n",
    "        'content_form:uiChemistryVisualSearchElCount': '',\n",
    "        'content_form:uiChemistryVisualSearchUnitCoefficient_input': 'moles',\n",
    "        'jakarta.faces.ViewState': view_state\n",
    "    }\n",
    "\n",
    "    response = session.post(query_url, data=payload)\n",
    "\n",
    "    if response.status_code != 200:\n",
    "        return f\"Query failed with status code {response.status_code}\"\n",
    "\n",
    "    list_response = session.get(list_url)\n",
    "\n",
    "    if list_response.status_code == 200:\n",
    "        return list_response.text\n",
    "    else:\n",
    "        return f\"List view failed with status code {list_response.status_code}\""
   ]
  },
  {
   "cell_type": "code",
   "execution_count": 73,
   "metadata": {},
   "outputs": [],
   "source": [
    "res = query_icsd('Ti Co B', 3, 127)"
   ]
  },
  {
   "cell_type": "markdown",
   "metadata": {},
   "source": [
    "# Scrape Response"
   ]
  },
  {
   "cell_type": "code",
   "execution_count": 74,
   "metadata": {},
   "outputs": [],
   "source": [
    "res_soup = BeautifulSoup(res, 'html.parser')"
   ]
  },
  {
   "cell_type": "code",
   "execution_count": 75,
   "metadata": {},
   "outputs": [],
   "source": [
    "template_row_object = {\n",
    "    'Collection Code': '',\n",
    "    'HMS': '',\n",
    "    'Structure Formula': '',\n",
    "    'Structure Type': '',\n",
    "    'Reference': '',\n",
    "    'Cell Parameters': '',\n",
    "    'Cell Volume': '',\n",
    "    'Temperature': '',\n",
    "    'Calculated Density': '',\n",
    "    'Publication Year': '',\n",
    "}"
   ]
  },
  {
   "cell_type": "code",
   "execution_count": 76,
   "metadata": {},
   "outputs": [],
   "source": [
    "res_table = res_soup.find_all(\n",
    "    \"tbody\", class_=\"ui-datatable-data ui-widget-content\")\n",
    "res_objects = res_table[0].find_all(\"tr\")\n",
    "\n",
    "all_rows = []\n",
    "\n",
    "for row in res_objects:\n",
    "    row_object = template_row_object.copy()\n",
    "\n",
    "    cells = row.find_all(\"td\")\n",
    "\n",
    "    cell_data = [cell.a.text if cell.a else cell.text for cell in cells]\n",
    "\n",
    "    if len(cell_data) >= 10:\n",
    "        row_object['Collection Code'] = cell_data[1]\n",
    "        row_object['HMS'] = cell_data[2]\n",
    "        row_object['Structure Formula'] = cell_data[3]\n",
    "        row_object['Structure Type'] = cell_data[4]\n",
    "        row_object['Reference'] = cell_data[5]\n",
    "        row_object['Cell Parameters'] = cell_data[6]\n",
    "        row_object['Cell Volume'] = cell_data[7]\n",
    "        row_object['Temperature'] = cell_data[8]\n",
    "        row_object['Calculated Density'] = cell_data[9]\n",
    "        row_object['Publication Year'] = cell_data[10]\n",
    "\n",
    "        all_rows.append(row_object)"
   ]
  },
  {
   "cell_type": "code",
   "execution_count": 77,
   "metadata": {},
   "outputs": [
    {
     "name": "stdout",
     "output_type": "stream",
     "text": [
      "{'Collection Code': '433428', 'HMS': 'P 4/m b m', 'Structure Formula': 'Co5.53 Ti2.47 B2', 'Structure Type': 'Ti3Co5B2', 'Reference': 'Zeitschrift fuer Anorganische und Allgemeine Chemie (2017) 643, (21) p. 1551-1556', 'Cell Parameters': '8.39115(16) 8.39115(16) 3.00954(6) 90 90 90', 'Cell Volume': '211.90', 'Temperature': '296.00', 'Calculated Density': '7.30', 'Publication Year': '2017'}\n",
      "{'Collection Code': '20140', 'HMS': 'P 4/m b m', 'Structure Formula': 'Ti3 Co5 B2', 'Structure Type': 'Ti3Co5B2', 'Reference': 'Zhurnal Strukturnoi Khimii (1971) 12,  p. 458-461', 'Cell Parameters': '8.489(5) 8.489(5) 3.038(3) 90. 90. 90.', 'Cell Volume': '218.93', 'Temperature': '293.00', 'Calculated Density': '6.98', 'Publication Year': '1971'}\n"
     ]
    }
   ],
   "source": [
    "for row_obj in all_rows:\n",
    "    print(row_obj)"
   ]
  },
  {
   "cell_type": "markdown",
   "metadata": {},
   "source": [
    "# Space Group to Crystal System"
   ]
  },
  {
   "cell_type": "code",
   "execution_count": 1,
   "metadata": {},
   "outputs": [],
   "source": [
    "def space_group_to_crystal_system(space_group_number):\n",
    "    space_groups = [\n",
    "        {'name': 'Triclinic', 'start': 1, 'stop': 2},\n",
    "        {'name': 'Monoclinic', 'start': 3, 'stop': 15},\n",
    "        {'name': 'Orthorhombic', 'start': 16, 'stop': 74},\n",
    "        {'name': 'Tetragonal', 'start': 75, 'stop': 142},\n",
    "        {'name': 'Trigonal', 'start': 143, 'stop': 167},\n",
    "        {'name': 'Hexagonal', 'start': 168, 'stop': 194},\n",
    "        {'name': 'Cubic', 'start': 195, 'stop': 230}\n",
    "    ]\n",
    "\n",
    "    for group in space_groups:\n",
    "        if group['start'] <= space_group_number <= group['stop']:\n",
    "            print(group['name'])\n",
    "            return\n",
    "    print(\"Number out of range\")"
   ]
  },
  {
   "cell_type": "code",
   "execution_count": 2,
   "metadata": {},
   "outputs": [
    {
     "name": "stdout",
     "output_type": "stream",
     "text": [
      "Orthorhombic\n"
     ]
    }
   ],
   "source": [
    "space_group_to_crystal_system(50)"
   ]
  }
 ],
 "metadata": {
  "kernelspec": {
   "display_name": "env",
   "language": "python",
   "name": "python3"
  },
  "language_info": {
   "codemirror_mode": {
    "name": "ipython",
    "version": 3
   },
   "file_extension": ".py",
   "mimetype": "text/x-python",
   "name": "python",
   "nbconvert_exporter": "python",
   "pygments_lexer": "ipython3",
   "version": "3.10.4"
  }
 },
 "nbformat": 4,
 "nbformat_minor": 2
}
