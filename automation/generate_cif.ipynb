{
 "cells": [
  {
   "cell_type": "markdown",
   "metadata": {},
   "source": [
    "# Imports"
   ]
  },
  {
   "cell_type": "code",
   "execution_count": 155,
   "metadata": {},
   "outputs": [],
   "source": [
    "import requests\n",
    "from bs4 import BeautifulSoup"
   ]
  },
  {
   "cell_type": "markdown",
   "metadata": {},
   "source": [
    "# Utility Functions"
   ]
  },
  {
   "cell_type": "code",
   "execution_count": 156,
   "metadata": {},
   "outputs": [],
   "source": [
    "formula = 'CoFe3HfReIr2B2'"
   ]
  },
  {
   "cell_type": "code",
   "execution_count": 157,
   "metadata": {},
   "outputs": [],
   "source": [
    "def read_file(file_path):\n",
    "    try:\n",
    "        with open(file_path, 'r') as file:\n",
    "            contents = file.read()\n",
    "            return contents\n",
    "    except FileNotFoundError:\n",
    "        print(f\"The file at {file_path} was not found.\")\n",
    "    except Exception as e:\n",
    "        print(f\"An error occurred: {e}\")"
   ]
  },
  {
   "cell_type": "code",
   "execution_count": 158,
   "metadata": {},
   "outputs": [],
   "source": [
    "file_path = './output/' + formula + ' POSCAR'\n",
    "sample_poscar = read_file(file_path)"
   ]
  },
  {
   "cell_type": "markdown",
   "metadata": {},
   "source": [
    "# API Creation"
   ]
  },
  {
   "cell_type": "code",
   "execution_count": 159,
   "metadata": {},
   "outputs": [],
   "source": [
    "def generate_cif_from_poscar(poscar):\n",
    "    session = requests.Session()\n",
    "\n",
    "    query_url = 'https://uspex-team.org/online_utilities/poscar2cif/'\n",
    "    \n",
    "    payload = {\n",
    "        'input_poscar': poscar,\n",
    "        'tolerance': 0.02\n",
    "    }\n",
    "\n",
    "    response = session.post(query_url, data=payload)\n",
    "\n",
    "    if response.status_code != 200:\n",
    "        return f\"Query failed with status code {response.status_code}\"\n",
    "\n",
    "    return response.text"
   ]
  },
  {
   "cell_type": "code",
   "execution_count": 160,
   "metadata": {},
   "outputs": [
    {
     "data": {
      "text/plain": [
       "'<!DOCTYPE html>\\n\\n<head>\\n    <title>POSCAR2CIF converter</title>\\n    <link href=\"../src/global.css\" rel=\"stylesheet\" type=\"text/css\" />\\n\\n    <script language=\"JavaScript\" type=\"text/javascript\">\\n    function HandleBrowseClick()\\n    {\\n\\tvar fileinput = document.getElementById(\"browse\");\\n        fileinput.click();\\n    }\\n    function Handlechange()\\n    {\\n\\tvar fileinput = document.getElementById(\"browse\");\\n\\tvar textinput = document.getElementById(\"filename\");\\n\\ttextinput.value = fileinput.value;\\n    }\\n    </script>\\n</head>\\n\\n<body><h3><a href=\"https://uspex-team.org/en/uspex/tools\">Back to USPEX</a></h3>\\n<h1>POSCAR2CIF:</h1>\\nPOSCAR2CIF converter - determines space group and prepares a CIF-file from a POSCAR file.\\nDetailed description can be found <a href=\"code/findsym.txt\" target=\"_blank\">here</a>.<br>\\n<br>\\nValidity of the resulted CIF-file can be checked <a href=\"https://checkcif.iucr.org/\" target=\"_blank\">here</a>.<br>\\n<br>\\nExample: <a href=\"example/POSCAR.txt\" target=\"_blank\">POSCAR</a><br>\\n<br>\\n<b>Authors:</b>\\n<a href=\"mailto:stokesh@byu.edu\">Harold T. Stokes</a> (space group code),\\n<a href=\"mailto:maksim.rakitin@stonybrook.edu\">Maksim Rakitin</a> (web interface)\\n<hr>\\n\\n<table border=\"0\"><tr><th>POSCAR:</th><th>CIF file:</th></tr><tr><td valign=\"top\"><form enctype=\"multipart/form-data\" action=\"\" method=\"POST\">\\n<textarea readonly name=\"input_poscar\" cols=\"68\" rows=\"28\">Titanium cobalt boride (3/5/2)\\n1.0\\n        8.4890003204         0.0000000000         0.0000000000\\n        0.0000000000         8.4890003204         0.0000000000\\n        0.0000000000         0.0000000000         3.0380001068\\n   Co   Fe   Hf   Re   Ir   B\\n   2   6   2   2   4   4\\nCartesian\\n     0.000000000         0.000000000         0.000000000\\n     4.244500160         4.244500160         0.000000000\\n     2.775902987         7.020403385         0.000000000\\n     5.713097095         1.468596816         0.000000000\\n     1.468596816         2.775902987         0.000000000\\n     7.020403385         5.713097095         0.000000000\\n     0.000000000         4.244500160         1.519000053\\n     4.244500160         0.000000000         1.519000053\\n     1.884558082         0.577252030         1.519000053\\n     6.604442120         7.911747932         1.519000053\\n     7.911747932         1.884558082         1.519000053\\n     0.577252030         6.604442120         1.519000053\\n     2.359941959         4.821752548         1.519000053\\n     6.129058361         3.667248011         1.519000053\\n     4.821752548         6.129058361         1.519000053\\n     3.667248011         2.359941959         1.519000053\\n     0.976235032         5.220735073         0.000000000\\n     7.512765408         3.268265009         0.000000000\\n     3.268265009         0.976235032         0.000000000\\n     5.220735073         7.512765408         0.000000000</textarea><br>\\n<font color=\"red\"><b>Note:</b> POSCAR file must have the line with elements names!</font><br><br><table><tr><td valign=\"top\"><b>Tolerance:</b></td><td><input type=\"text\" name=\"tolerance\" size=\"10\" maxlength=\"10\" style=\"text-align: right\" value=\"0.02\"> default: 0.02,    valid values: 0-0.2\\n</td></tr></table><input type=\"submit\" value=\"Convert\" /> <input type=\"reset\" value=\"Reset\"></form>\\n<br>\\n<form enctype=\"multipart/form-data\" action=\"\" method=\"POST\">\\n<input type=\"submit\" value=\"Clean\" /></form>\\n</td><td valign=\"top\" style=\"padding-left: 6px;\"><form enctype=\"multipart/form-data\" action=\"download.php?cif=Co2Fe6Hf2Re2Ir4B4\" method=\"POST\">\\n<textarea readonly name=\"f_cif\" cols=\"55\" rows=\"45\"># CIF file\\n# This file was generated by FINDSYM\\n# Harold T. Stokes, Branton J. Campbell, Dorian M. Hatch\\n# Brigham Young University, Provo, Utah, USA\\n \\ndata_findsym-output\\n \\n_symmetry_space_group_name_H-M \\'P 1 2/m 1\\'\\n_symmetry_Int_Tables_number 10\\n \\n_cell_length_a       8.48900\\n_cell_length_b       3.03800\\n_cell_length_c       8.48900\\n_cell_angle_alpha   90.00000\\n_cell_angle_beta    90.00000\\n_cell_angle_gamma   90.00000\\n \\nloop_\\n_space_group_symop_operation_xyz\\nx,y,z\\n-x,y,-z\\n-x,-y,-z\\nx,-y,z\\n \\nloop_\\n_atom_site_label\\n_atom_site_type_symbol\\n_atom_site_fract_x\\n_atom_site_fract_y\\n_atom_site_fract_z\\n_atom_site_occupancy\\nCo1 Co   0.00000   0.00000   0.00000   1.00000\\nCo2 Co   0.50000   0.00000   0.50000   1.00000\\nFe1 Fe  -0.32700   0.00000  -0.17300   1.00000\\nFe2 Fe  -0.17300   0.00000   0.32700   1.00000\\nFe3 Fe   0.00000   0.50000   0.50000   1.00000\\nFe4 Fe   0.50000   0.50000   0.00000   1.00000\\nHf1 Hf  -0.22200   0.50000   0.06800   1.00000\\nRe1 Re   0.06800   0.50000   0.22200   1.00000\\nIr1 Ir  -0.27800   0.50000  -0.43200   1.00000\\nIr2 Ir   0.43200   0.50000  -0.27800   1.00000\\nB1  B   -0.11500   0.00000  -0.38500   1.00000\\nB2  B   -0.38500   0.00000   0.11500   1.00000\\n \\n# end_of_file\\n</textarea><br>\\n<input type=\"submit\" value=\"Download CIF\" /></form>\\n</td></tr></table>\\n\\n<!-- <a name=\"end\"></a>\\n\\n<br>\\n<hr> -->\\n\\n<!-- <table width=\"100%\">\\n  <tr>\\n    <td width=\"1px\"><div id=\"clustrmaps-widget\"></div></td>\\n    <td style=\"font-family: arial; font-size: 8pt; text-align: center; vertical-align: bottom;\">Last updated: </td>\\n  </tr>\\n</table> -->\\n\\n<!-- <script type=\"text/javascript\">\\nvar _clustrmaps = {\\'url\\' : \\'https://han.ess.sunysb.edu\\', \\'user\\' : 1128567, \\'server\\' : \\'2\\', \\'id\\' : \\'clustrmaps-widget\\', \\'version\\' : 1, \\'date\\' : \\'2014-01-15\\', \\'lang\\' : \\'en\\', \\'corners\\' : \\'square\\' };(function (){ var s = document.createElement(\\'script\\'); s.type = \\'text/javascript\\'; s.async = true; s.src = \\'http://www2.clustrmaps.com/counter/map.js\\'; var x = document.getElementsByTagName(\\'script\\')[0]; x.parentNode.insertBefore(s, x);})();\\n</script>\\n<noscript>\\n    <a href=\"https://www2.clustrmaps.com/user/e0e113877\">\\n\\t<img src=\"https://www2.clustrmaps.com/stats/maps-no_clusters/han.ess.sunysb.edu-thumb.jpg\" alt=\"Locations of visitors to this page\" />\\n    </a>\\n</noscript> -->\\n\\n\\n</body>\\n</html>\\n'"
      ]
     },
     "execution_count": 160,
     "metadata": {},
     "output_type": "execute_result"
    }
   ],
   "source": [
    "res = generate_cif_from_poscar(sample_poscar)\n",
    "res"
   ]
  },
  {
   "cell_type": "markdown",
   "metadata": {},
   "source": [
    "# Scrape Response"
   ]
  },
  {
   "cell_type": "code",
   "execution_count": 161,
   "metadata": {},
   "outputs": [],
   "source": [
    "res_soup = BeautifulSoup(res, 'html.parser')"
   ]
  },
  {
   "cell_type": "code",
   "execution_count": 162,
   "metadata": {},
   "outputs": [],
   "source": [
    "textarea = res_soup.find('textarea', {'name': 'f_cif'})"
   ]
  },
  {
   "cell_type": "code",
   "execution_count": 163,
   "metadata": {},
   "outputs": [
    {
     "name": "stdout",
     "output_type": "stream",
     "text": [
      "# CIF file\n",
      "# This file was generated by FINDSYM\n",
      "# Harold T. Stokes, Branton J. Campbell, Dorian M. Hatch\n",
      "# Brigham Young University, Provo, Utah, USA\n",
      " \n",
      "data_findsym-output\n",
      " \n",
      "_symmetry_space_group_name_H-M 'P 1 2/m 1'\n",
      "_symmetry_Int_Tables_number 10\n",
      " \n",
      "_cell_length_a       8.48900\n",
      "_cell_length_b       8.48900\n",
      "_cell_length_c       3.03800\n",
      "_cell_angle_alpha   90.00000\n",
      "_cell_angle_beta    90.00000\n",
      "_cell_angle_gamma   90.00000\n",
      " \n",
      "loop_\n",
      "_space_group_symop_operation_xyz\n",
      "z,x,y\n",
      "-z,-x,y\n",
      "-z,-x,-y\n",
      "z,x,-y\n",
      " \n",
      "loop_\n",
      "_atom_site_label\n",
      "_atom_site_type_symbol\n",
      "_atom_site_fract_x\n",
      "_atom_site_fract_y\n",
      "_atom_site_fract_z\n",
      "_atom_site_occupancy\n",
      "Co1 Co   0.00000   0.00000   0.00000   1.00000\n",
      "Co2 Co   0.50000   0.00000   0.50000   1.00000\n",
      "Fe1 Fe  -0.32700   0.00000  -0.17300   1.00000\n",
      "Fe2 Fe  -0.17300   0.00000   0.32700   1.00000\n",
      "Fe3 Fe   0.00000   0.50000   0.50000   1.00000\n",
      "Fe4 Fe   0.50000   0.50000   0.00000   1.00000\n",
      "Hf1 Hf  -0.22200   0.50000   0.06800   1.00000\n",
      "Re1 Re   0.06800   0.50000   0.22200   1.00000\n",
      "Ir1 Ir  -0.27800   0.50000  -0.43200   1.00000\n",
      "Ir2 Ir   0.43200   0.50000  -0.27800   1.00000\n",
      "B1  B   -0.11500   0.00000  -0.38500   1.00000\n",
      "B2  B   -0.38500   0.00000   0.11500   1.00000\n",
      " \n",
      "# end_of_file\n",
      "\n",
      "Textarea found and parsed!\n"
     ]
    }
   ],
   "source": [
    "if textarea:\n",
    "    textarea_text = textarea.get_text()\n",
    "    textarea_text = textarea_text.replace(\n",
    "        \"_cell_length_b       3.03800\", \"_cell_length_b       8.48900\")\n",
    "    textarea_text = textarea_text.replace(\n",
    "        \"_cell_length_c       8.48900\", \"_cell_length_c       3.03800\")\n",
    "    textarea_text = textarea_text.replace(\"x,y,z\", \"z,x,y\")\n",
    "    textarea_text = textarea_text.replace(\"-x,y,-z\", \"-z,-x,y\")\n",
    "    textarea_text = textarea_text.replace(\"-x,-y,-z\", \"-z,-x,-y\")\n",
    "    textarea_text = textarea_text.replace(\"x,-y,z\", \"z,x,-y\")\n",
    "    print(textarea_text)\n",
    "    print(\"Textarea found and parsed!\")\n",
    "else:\n",
    "    print(\"Textarea not found!\")"
   ]
  },
  {
   "cell_type": "markdown",
   "metadata": {},
   "source": [
    "# Save CIF File"
   ]
  },
  {
   "cell_type": "code",
   "execution_count": 164,
   "metadata": {},
   "outputs": [
    {
     "name": "stdout",
     "output_type": "stream",
     "text": [
      "Textarea content has been saved to ./output/CoFe3HfReIr2B2.cif\n"
     ]
    }
   ],
   "source": [
    "file_path = './output/' + formula +'.cif'\n",
    "\n",
    "with open(file_path, 'w') as file:\n",
    "    file.write(textarea_text)\n",
    "\n",
    "print(f\"Textarea content has been saved to {file_path}\")"
   ]
  }
 ],
 "metadata": {
  "kernelspec": {
   "display_name": "env",
   "language": "python",
   "name": "python3"
  },
  "language_info": {
   "codemirror_mode": {
    "name": "ipython",
    "version": 3
   },
   "file_extension": ".py",
   "mimetype": "text/x-python",
   "name": "python",
   "nbconvert_exporter": "python",
   "pygments_lexer": "ipython3",
   "version": "3.10.4"
  }
 },
 "nbformat": 4,
 "nbformat_minor": 2
}
