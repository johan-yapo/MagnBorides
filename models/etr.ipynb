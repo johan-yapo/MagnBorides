{
 "cells": [
  {
   "cell_type": "code",
   "execution_count": 49,
   "metadata": {},
   "outputs": [
    {
     "data": {
      "text/markdown": [
       "\n",
       "# Author and Timestamp Information\n",
       "\n",
       "- **Author**: johan-yapo\n",
       "- **Date**: 2025-03-28 21:17:16\n"
      ],
      "text/plain": [
       "<IPython.core.display.Markdown object>"
      ]
     },
     "metadata": {},
     "output_type": "display_data"
    }
   ],
   "source": [
    "from datetime import datetime\n",
    "\n",
    "author = \"johan-yapo\"\n",
    "timestamp = datetime.now().strftime('%Y-%m-%d %H:%M:%S')\n",
    "\n",
    "# Create the author and timestamp markdown content\n",
    "markdown_content = f\"\"\"\n",
    "# Author and Timestamp Information\n",
    "\n",
    "- **Author**: {author}\n",
    "- **Date**: {timestamp}\n",
    "\"\"\"\n",
    "\n",
    "# Display the markdown content\n",
    "from IPython.display import display, Markdown\n",
    "display(Markdown(markdown_content))"
   ]
  },
  {
   "cell_type": "markdown",
   "metadata": {},
   "source": [
    "# Imports"
   ]
  },
  {
   "cell_type": "code",
   "execution_count": null,
   "metadata": {},
   "outputs": [],
   "source": [
    "import os\n",
    "import numpy as np\n",
    "import pandas as pd\n",
    "import matplotlib.pyplot as plt\n",
    "import seaborn as sns\n",
    "from collections import OrderedDict\n",
    "from CBFV import composition\n",
    "from time import time\n",
    "from sklearn.dummy import DummyRegressor\n",
    "from sklearn.linear_model import Ridge\n",
    "from sklearn.ensemble import AdaBoostRegressor\n",
    "from sklearn.ensemble import GradientBoostingRegressor\n",
    "from sklearn.ensemble import ExtraTreesRegressor\n",
    "from sklearn.ensemble import RandomForestRegressor\n",
    "from sklearn.neighbors import KNeighborsRegressor\n",
    "from sklearn.svm import SVR\n",
    "from sklearn.svm import LinearSVR\n",
    "from sklearn.metrics import r2_score\n",
    "from sklearn.metrics import mean_absolute_error\n",
    "from sklearn.metrics import mean_squared_error\n",
    "from sklearn.metrics import accuracy_score\n",
    "from sklearn.model_selection import GroupKFold\n",
    "#formula group needs to be integers\n",
    "from sklearn.preprocessing import OrdinalEncoder\n",
    "from matplotlib.patches import Patch\n",
    "from sklearn.model_selection import cross_validate\n",
    "from sklearn.linear_model import LinearRegression\n",
    "from sklearn.model_selection import learning_curve\n",
    "from sklearn.model_selection import GridSearchCV\n",
    "from sklearn.linear_model import LinearRegression\n",
    "from sklearn.model_selection import learning_curve\n",
    "import pickle\n",
    "\n",
    "import plotly\n",
    "import plotly.express as px\n",
    "import plotly.graph_objects as go\n",
    "import plotly.io as pio\n",
    "pio.renderers.default='browser'\n",
    "from sklearn.feature_selection import RFECV\n",
    "from sklearn.feature_selection import RFE \n",
    "from sklearn.preprocessing import StandardScaler\n",
    "from sklearn.preprocessing import normalize"
   ]
  },
  {
   "cell_type": "code",
   "execution_count": 1,
   "metadata": {},
   "outputs": [
    {
     "ename": "NameError",
     "evalue": "name 'np' is not defined",
     "output_type": "error",
     "traceback": [
      "\u001b[1;31m---------------------------------------------------------------------------\u001b[0m",
      "\u001b[1;31mNameError\u001b[0m                                 Traceback (most recent call last)",
      "Cell \u001b[1;32mIn[1], line 2\u001b[0m\n\u001b[0;32m      1\u001b[0m RNG_SEED \u001b[38;5;241m=\u001b[39m \u001b[38;5;241m8\u001b[39m\n\u001b[1;32m----> 2\u001b[0m \u001b[43mnp\u001b[49m\u001b[38;5;241m.\u001b[39mrandom\u001b[38;5;241m.\u001b[39mseed(RNG_SEED)\n\u001b[0;32m      3\u001b[0m curr_dir \u001b[38;5;241m=\u001b[39m os\u001b[38;5;241m.\u001b[39mgetcwd()\n\u001b[0;32m      4\u001b[0m DATA_PATH \u001b[38;5;241m=\u001b[39m os\u001b[38;5;241m.\u001b[39mpath\u001b[38;5;241m.\u001b[39mjoin(os\u001b[38;5;241m.\u001b[39mpath\u001b[38;5;241m.\u001b[39mdirname(curr_dir), \u001b[38;5;124m'\u001b[39m\u001b[38;5;124mdata\u001b[39m\u001b[38;5;124m'\u001b[39m)\n",
      "\u001b[1;31mNameError\u001b[0m: name 'np' is not defined"
     ]
    }
   ],
   "source": [
    "RNG_SEED = 8\n",
    "np.random.seed(RNG_SEED)\n",
    "curr_dir = os.getcwd()\n",
    "DATA_PATH = os.path.join(os.path.dirname(curr_dir), 'data')\n",
    "MODELS_PATH = os.path.join(os.path.dirname(curr_dir), 'models')\n",
    "WEIGHTS_PATH = os.path.join(os.path.dirname(curr_dir), 'Weights')\n",
    "ASSETS_PATH = os.path.join(os.path.dirname(curr_dir), 'Assets')\n",
    "RESULTS_PATH = os.path.join(os.path.dirname(curr_dir), 'Results')\n",
    "OUTPUT_PATH = os.path.join(os.path.dirname(curr_dir), 'output')"
   ]
  },
  {
   "cell_type": "markdown",
   "metadata": {},
   "source": [
    "# Collection"
   ]
  },
  {
   "cell_type": "code",
   "execution_count": 28,
   "metadata": {},
   "outputs": [],
   "source": [
    "df_train = pd.read_csv(DATA_PATH + \"/intermetallics_train7.csv\")\n",
    "df_val = pd.read_csv(DATA_PATH + \"/intermetallics_val7.csv\")\n",
    "df_test = pd.read_csv(DATA_PATH + \"/intermetallics_test7.csv\")\n",
    "df_test_og = pd.read_csv(DATA_PATH + \"/intermetallics_test7.csv\")"
   ]
  },
  {
   "cell_type": "markdown",
   "metadata": {},
   "source": [
    "# Preprocessing"
   ]
  },
  {
   "cell_type": "code",
   "execution_count": 2,
   "metadata": {},
   "outputs": [
    {
     "ename": "NameError",
     "evalue": "name 'df_train' is not defined",
     "output_type": "error",
     "traceback": [
      "\u001b[1;31m---------------------------------------------------------------------------\u001b[0m",
      "\u001b[1;31mNameError\u001b[0m                                 Traceback (most recent call last)",
      "Cell \u001b[1;32mIn[2], line 1\u001b[0m\n\u001b[1;32m----> 1\u001b[0m df_train \u001b[38;5;241m=\u001b[39m \u001b[43mdf_train\u001b[49m\u001b[38;5;241m.\u001b[39mdrop_duplicates()\n\u001b[0;32m      2\u001b[0m df_val \u001b[38;5;241m=\u001b[39m df_val\u001b[38;5;241m.\u001b[39mdrop_duplicates()\n\u001b[0;32m      3\u001b[0m df_test \u001b[38;5;241m=\u001b[39m df_test\u001b[38;5;241m.\u001b[39mdrop_duplicates()\n",
      "\u001b[1;31mNameError\u001b[0m: name 'df_train' is not defined"
     ]
    }
   ],
   "source": [
    "df_train = df_train.drop_duplicates()\n",
    "df_val = df_val.drop_duplicates()\n",
    "df_test = df_test.drop_duplicates()\n",
    "df_test_og = df_test_og.drop_duplicates()"
   ]
  },
  {
   "cell_type": "code",
   "execution_count": null,
   "metadata": {},
   "outputs": [
    {
     "name": "stdout",
     "output_type": "stream",
     "text": [
      "df_train DataFrame shape: (5197, 1594)\n",
      "df_val DataFrame shape: (1504, 1594)\n",
      "df_test DataFrame shape: (747, 1594)\n"
     ]
    }
   ],
   "source": [
    "df_train.drop(columns=['composition', 'material_id',\n",
    "              'structure'], axis=1, inplace=True)\n",
    "\n",
    "df_val.drop(columns=['composition', 'material_id',\n",
    "            'structure'], axis=1, inplace=True)\n",
    "\n",
    "df_test.drop(columns=['composition', 'material_id',\n",
    "             'structure'], axis=1, inplace=True)\n",
    "\n",
    "df_train.drop(['total_magnetization',\n",
    "              'total_magnetization_normalized_vol'], axis=1, inplace=True)\n",
    "df_val.drop(['total_magnetization',\n",
    "            'total_magnetization_normalized_vol'], axis=1, inplace=True)\n",
    "df_test.drop(['total_magnetization',\n",
    "             'total_magnetization_normalized_vol'], axis=1, inplace=True)\n",
    "\n",
    "df_train.to_csv(os.path.join(\n",
    "    DATA_PATH, 'trainSet_columnOrder.csv'), index=False)\n",
    "\n",
    "print(f'df_train DataFrame shape: {df_train.shape}')\n",
    "print(f'df_val DataFrame shape: {df_val.shape}')\n",
    "print(f'df_test DataFrame shape: {df_test.shape}')"
   ]
  },
  {
   "cell_type": "code",
   "execution_count": null,
   "metadata": {},
   "outputs": [
    {
     "name": "stderr",
     "output_type": "stream",
     "text": [
      "Processing Input Data: 100%|██████████| 5197/5197 [00:00<00:00, 10509.12it/s]\n"
     ]
    },
    {
     "name": "stdout",
     "output_type": "stream",
     "text": [
      "\tFeaturizing Compositions...\n"
     ]
    },
    {
     "name": "stderr",
     "output_type": "stream",
     "text": [
      "Assigning Features...: 100%|██████████| 5197/5197 [00:00<00:00, 5976.21it/s]\n"
     ]
    },
    {
     "name": "stdout",
     "output_type": "stream",
     "text": [
      "\tCreating Pandas Objects...\n"
     ]
    },
    {
     "name": "stderr",
     "output_type": "stream",
     "text": [
      "Processing Input Data: 100%|██████████| 1504/1504 [00:00<00:00, 16333.31it/s]\n"
     ]
    },
    {
     "name": "stdout",
     "output_type": "stream",
     "text": [
      "\tFeaturizing Compositions...\n"
     ]
    },
    {
     "name": "stderr",
     "output_type": "stream",
     "text": [
      "Assigning Features...: 100%|██████████| 1504/1504 [00:00<00:00, 10325.71it/s]\n"
     ]
    },
    {
     "name": "stdout",
     "output_type": "stream",
     "text": [
      "\tCreating Pandas Objects...\n"
     ]
    },
    {
     "name": "stderr",
     "output_type": "stream",
     "text": [
      "Processing Input Data: 100%|██████████| 747/747 [00:00<00:00, 14682.37it/s]\n"
     ]
    },
    {
     "name": "stdout",
     "output_type": "stream",
     "text": [
      "\tFeaturizing Compositions...\n"
     ]
    },
    {
     "name": "stderr",
     "output_type": "stream",
     "text": [
      "Assigning Features...: 100%|██████████| 747/747 [00:00<00:00, 9572.61it/s]\n"
     ]
    },
    {
     "name": "stdout",
     "output_type": "stream",
     "text": [
      "\tCreating Pandas Objects...\n"
     ]
    }
   ],
   "source": [
    "#Need to rename formula_pretty column to formula and total_magnetization_formula_units to target since CBFV needs that \n",
    "rename_dict = {'total_magnetization_normalized_formula_units': 'target'}\n",
    "df_train = df_train.rename(columns=rename_dict)\n",
    "df_val = df_val.rename(columns=rename_dict)\n",
    "df_test = df_test.rename(columns=rename_dict)\n",
    "\n",
    "X_train_unscaled, y_train, formulae_train, skipped_train = composition.generate_features(df_train, elem_prop='magpie', drop_duplicates=False, extend_features=True, sum_feat=True)\n",
    "X_val_unscaled, y_val, formulae_val, skipped_val = composition.generate_features(df_val, elem_prop='magpie', drop_duplicates=False, extend_features=True, sum_feat=True)\n",
    "X_test_unscaled, y_test, formulae_test, skipped_test = composition.generate_features(df_test, elem_prop='magpie', drop_duplicates=False, extend_features=True, sum_feat=True)\n",
    "\n",
    "columns=X_train_unscaled.columns.values.tolist()"
   ]
  },
  {
   "cell_type": "code",
   "execution_count": null,
   "metadata": {},
   "outputs": [
    {
     "name": "stdout",
     "output_type": "stream",
     "text": [
      "(6701, 1746)\n"
     ]
    }
   ],
   "source": [
    "scaler = StandardScaler()\n",
    "\n",
    "X_train = scaler.fit_transform(X_train_unscaled)\n",
    "X_val = scaler.transform(X_val_unscaled)\n",
    "X_test = scaler.transform(X_test_unscaled)\n",
    "\n",
    "X_train = normalize(X_train)\n",
    "X_val = normalize(X_val)\n",
    "X_test = normalize(X_test)\n",
    "\n",
    "X_train_new = np.concatenate((X_train, X_val), axis=0)\n",
    "y_train_new = pd.concat((y_train, y_val), axis=0)\n",
    "\n",
    "print(X_train_new.shape)"
   ]
  },
  {
   "cell_type": "code",
   "execution_count": null,
   "metadata": {},
   "outputs": [],
   "source": [
    "enc = OrdinalEncoder()\n",
    "\n",
    "df_train_new = pd.concat((df_train, df_val), axis=0)\n",
    "enc.fit(df_train_new[[\"formula\", \"number\"]])\n",
    "df_train_new[[\"formula\", \"number\"]] = enc.transform(\n",
    "    df_train_new[[\"formula\", \"number\"]])\n",
    "\n",
    "groups = df_train_new['formula']\n",
    "gkf = GroupKFold(n_splits = 5)"
   ]
  },
  {
   "cell_type": "markdown",
   "metadata": {},
   "source": [
    "# Data Visualizations"
   ]
  },
  {
   "cell_type": "code",
   "execution_count": 39,
   "metadata": {},
   "outputs": [
    {
     "data": {
      "image/png": "[encoded data removed]",
      "text/plain": [
       "<Figure size 640x480 with 1 Axes>"
      ]
     },
     "metadata": {},
     "output_type": "display_data"
    }
   ],
   "source": [
    "#Visualize data for CV\n",
    "rng = np.random.RandomState(1338)\n",
    "cmap_data = plt.cm.Paired\n",
    "cmap_cv = plt.cm.coolwarm\n",
    "\n",
    "def visualize_groups(classes, groups, name):\n",
    "    # Visualize dataset groups\n",
    "    fig, ax = plt.subplots()\n",
    "    ax.scatter(\n",
    "        range(len(groups)),\n",
    "        [0.5] * len(groups),\n",
    "        c=groups,\n",
    "        marker=\"_\",\n",
    "        lw=50,\n",
    "        cmap=cmap_data,\n",
    "    )\n",
    "    ax.scatter(\n",
    "        range(len(groups)),\n",
    "        [3.5] * len(groups),\n",
    "        c=classes,\n",
    "        marker=\"_\",\n",
    "        lw=50,\n",
    "        cmap=cmap_data,\n",
    "    )\n",
    "    ax.set(\n",
    "        ylim=[-1, 5],\n",
    "        yticks=[0.5, 3.5],\n",
    "        yticklabels=[\"Data\\ngroup\", \"Data\\nclass\"],\n",
    "        xlabel=\"Sample index\",\n",
    "    )\n",
    "\n",
    "\n",
    "data_vis = visualize_groups(y_train_new, groups, \"no groups\")\n",
    "\n"
   ]
  },
  {
   "cell_type": "code",
   "execution_count": 40,
   "metadata": {},
   "outputs": [],
   "source": [
    "def plot_cv_indices(cv, X, y, group, ax, n_splits, lw=5):\n",
    "    \"\"\"Create a sample plot for indices of a cross-validation object.\"\"\"\n",
    "\n",
    "    for ii, (tr, tt) in enumerate(cv.split(X=X, y=y, groups=group)):\n",
    "        indices = np.array([np.nan] * len(X))\n",
    "        indices[tt] = 1\n",
    "        indices[tr] = 0\n",
    "\n",
    "        ax.scatter(\n",
    "            range(len(indices)),\n",
    "            [ii + 0.5] * len(indices),\n",
    "            c=indices,\n",
    "            marker=\"_\",\n",
    "            lw=lw,\n",
    "            cmap=cmap_cv,\n",
    "            vmin=-0.2,\n",
    "            vmax=1.2,\n",
    "        )\n",
    "\n",
    "    ax.scatter(\n",
    "        range(len(X)), [ii + 1.5] * len(X), c=y, marker=\"_\", lw=lw, cmap=cmap_data\n",
    "    )\n",
    "\n",
    "    ax.scatter(\n",
    "        range(len(X)), [ii + 2.5] * len(X), c=group, marker=\"_\", lw=lw, cmap=cmap_data\n",
    "    )\n",
    "\n",
    "    yticklabels = list(range(n_splits)) + [\"class\", \"group\"]\n",
    "    ax.set(\n",
    "        yticks=np.arange(n_splits + 2) + 0.5,\n",
    "        yticklabels=yticklabels,\n",
    "        xlabel=\"Sample index\",\n",
    "        ylabel=\"CV iteration\",\n",
    "        ylim=[n_splits + 2.2, -0.2],\n",
    "        xlim=[0, 100],\n",
    "    )\n",
    "    ax.set_title(\"{}\".format(type(cv).__name__), fontsize=15)\n",
    "    return ax"
   ]
  },
  {
   "cell_type": "code",
   "execution_count": 51,
   "metadata": {},
   "outputs": [
    {
     "data": {
      "image/png": "[encoded data removed]",
      "text/plain": [
       "<Figure size 640x480 with 1 Axes>"
      ]
     },
     "metadata": {},
     "output_type": "display_data"
    }
   ],
   "source": [
    "fig, ax = plt.subplots()\n",
    "cv = GroupKFold(n_splits=5)\n",
    "cv_plot = plot_cv_indices(gkf, df_train_new, y_train_new, groups, ax, 5)\n",
    "\n",
    "ax.legend(\n",
    "    [Patch(color=cmap_cv(0.8)), Patch(color=cmap_cv(0.02))],\n",
    "    [\"Testing set\", \"Training set\"],\n",
    "    loc=(1.02, 0.8),\n",
    ")\n",
    "\n",
    "cv_plot.figure.savefig(os.path.join(OUTPUT_PATH, \"etr_cv_plot2.png\"), bbox_inches='tight', dpi=600, transparent = False)\n",
    "##cv_plot.figure.savefig('C:/Users/joeya/Documents/Fokwa Group/ML_tutorial/intermetallics/plots/classic_models/jarvis/cv_plot2_{}_.png', \n",
    "    ##bbox_inches='tight', dpi=600)"
   ]
  },
  {
   "cell_type": "markdown",
   "metadata": {},
   "source": [
    "# Training"
   ]
  },
  {
   "cell_type": "code",
   "execution_count": 52,
   "metadata": {},
   "outputs": [],
   "source": [
    "etr_cv_model = ExtraTreesRegressor(n_estimators = 100, criterion = 'squared_error',\n",
    "                                   max_features = 1.0, verbose=4)"
   ]
  },
  {
   "cell_type": "code",
   "execution_count": 53,
   "metadata": {},
   "outputs": [
    {
     "name": "stdout",
     "output_type": "stream",
     "text": [
      "building tree 1 of 100\n",
      "building tree 2 of 100\n",
      "building tree 3 of 100\n",
      "building tree 4 of 100\n",
      "building tree 5 of 100\n",
      "building tree 6 of 100\n",
      "building tree 7 of 100\n",
      "building tree 8 of 100\n",
      "building tree 9 of 100\n",
      "building tree 10 of 100\n",
      "building tree 11 of 100\n",
      "building tree 12 of 100\n",
      "building tree 13 of 100\n",
      "building tree 14 of 100\n",
      "building tree 15 of 100\n",
      "building tree 16 of 100\n",
      "building tree 17 of 100\n",
      "building tree 18 of 100\n",
      "building tree 19 of 100\n",
      "building tree 20 of 100\n",
      "building tree 21 of 100\n",
      "building tree 22 of 100\n",
      "building tree 23 of 100\n",
      "building tree 24 of 100\n"
     ]
    },
    {
     "name": "stderr",
     "output_type": "stream",
     "text": [
      "[Parallel(n_jobs=1)]: Done  24 tasks      | elapsed:  2.1min\n"
     ]
    },
    {
     "name": "stdout",
     "output_type": "stream",
     "text": [
      "building tree 25 of 100\n",
      "building tree 26 of 100\n",
      "building tree 27 of 100\n",
      "building tree 28 of 100\n",
      "building tree 29 of 100\n",
      "building tree 30 of 100\n",
      "building tree 31 of 100\n",
      "building tree 32 of 100\n",
      "building tree 33 of 100\n",
      "building tree 34 of 100\n",
      "building tree 35 of 100\n",
      "building tree 36 of 100\n",
      "building tree 37 of 100\n",
      "building tree 38 of 100\n",
      "building tree 39 of 100\n",
      "building tree 40 of 100\n",
      "building tree 41 of 100\n",
      "building tree 42 of 100\n",
      "building tree 43 of 100\n",
      "building tree 44 of 100\n",
      "building tree 45 of 100\n",
      "building tree 46 of 100\n",
      "building tree 47 of 100\n",
      "building tree 48 of 100\n",
      "building tree 49 of 100\n",
      "building tree 50 of 100\n",
      "building tree 51 of 100\n",
      "building tree 52 of 100\n",
      "building tree 53 of 100\n",
      "building tree 54 of 100\n",
      "building tree 55 of 100\n",
      "building tree 56 of 100\n",
      "building tree 57 of 100\n",
      "building tree 58 of 100\n",
      "building tree 59 of 100\n",
      "building tree 60 of 100\n",
      "building tree 61 of 100\n",
      "building tree 62 of 100\n",
      "building tree 63 of 100\n",
      "building tree 64 of 100\n",
      "building tree 65 of 100\n",
      "building tree 66 of 100\n",
      "building tree 67 of 100\n",
      "building tree 68 of 100\n",
      "building tree 69 of 100\n",
      "building tree 70 of 100\n",
      "building tree 71 of 100\n",
      "building tree 72 of 100\n",
      "building tree 73 of 100\n",
      "building tree 74 of 100\n",
      "building tree 75 of 100\n",
      "building tree 76 of 100\n",
      "building tree 77 of 100\n",
      "building tree 78 of 100\n",
      "building tree 79 of 100\n",
      "building tree 80 of 100\n",
      "building tree 81 of 100\n",
      "building tree 82 of 100\n",
      "building tree 83 of 100\n",
      "building tree 84 of 100\n",
      "building tree 85 of 100\n",
      "building tree 86 of 100\n",
      "building tree 87 of 100\n",
      "building tree 88 of 100\n",
      "building tree 89 of 100\n",
      "building tree 90 of 100\n",
      "building tree 91 of 100\n",
      "building tree 92 of 100\n",
      "building tree 93 of 100\n",
      "building tree 94 of 100\n",
      "building tree 95 of 100\n",
      "building tree 96 of 100\n",
      "building tree 97 of 100\n"
     ]
    },
    {
     "name": "stderr",
     "output_type": "stream",
     "text": [
      "[Parallel(n_jobs=1)]: Done  97 tasks      | elapsed:  8.1min\n"
     ]
    },
    {
     "name": "stdout",
     "output_type": "stream",
     "text": [
      "building tree 98 of 100\n",
      "building tree 99 of 100\n",
      "building tree 100 of 100\n"
     ]
    },
    {
     "name": "stderr",
     "output_type": "stream",
     "text": [
      "[Parallel(n_jobs=1)]: Done  24 tasks      | elapsed:    0.0s\n",
      "[Parallel(n_jobs=1)]: Done  97 tasks      | elapsed:    0.0s\n",
      "[Parallel(n_jobs=1)]: Done  24 tasks      | elapsed:    0.0s\n",
      "[Parallel(n_jobs=1)]: Done  97 tasks      | elapsed:    0.2s\n"
     ]
    },
    {
     "name": "stdout",
     "output_type": "stream",
     "text": [
      "[CV] END  r2: (train=1.000, test=0.821) rmse: (train=-0.000, test=-3.828) total time= 8.3min\n",
      "building tree 1 of 100\n",
      "building tree 2 of 100\n",
      "building tree 3 of 100\n",
      "building tree 4 of 100\n",
      "building tree 5 of 100\n",
      "building tree 6 of 100\n",
      "building tree 7 of 100\n",
      "building tree 8 of 100\n",
      "building tree 9 of 100\n",
      "building tree 10 of 100\n",
      "building tree 11 of 100\n",
      "building tree 12 of 100\n",
      "building tree 13 of 100\n",
      "building tree 14 of 100\n",
      "building tree 15 of 100\n",
      "building tree 16 of 100\n",
      "building tree 17 of 100\n",
      "building tree 18 of 100\n",
      "building tree 19 of 100\n",
      "building tree 20 of 100\n",
      "building tree 21 of 100\n",
      "building tree 22 of 100\n",
      "building tree 23 of 100\n",
      "building tree 24 of 100\n"
     ]
    },
    {
     "name": "stderr",
     "output_type": "stream",
     "text": [
      "[Parallel(n_jobs=1)]: Done  24 tasks      | elapsed:  1.7min\n"
     ]
    },
    {
     "name": "stdout",
     "output_type": "stream",
     "text": [
      "building tree 25 of 100\n",
      "building tree 26 of 100\n",
      "building tree 27 of 100\n",
      "building tree 28 of 100\n",
      "building tree 29 of 100\n",
      "building tree 30 of 100\n",
      "building tree 31 of 100\n",
      "building tree 32 of 100\n",
      "building tree 33 of 100\n",
      "building tree 34 of 100\n",
      "building tree 35 of 100\n",
      "building tree 36 of 100\n",
      "building tree 37 of 100\n",
      "building tree 38 of 100\n",
      "building tree 39 of 100\n",
      "building tree 40 of 100\n",
      "building tree 41 of 100\n",
      "building tree 42 of 100\n",
      "building tree 43 of 100\n",
      "building tree 44 of 100\n",
      "building tree 45 of 100\n",
      "building tree 46 of 100\n",
      "building tree 47 of 100\n",
      "building tree 48 of 100\n",
      "building tree 49 of 100\n",
      "building tree 50 of 100\n",
      "building tree 51 of 100\n",
      "building tree 52 of 100\n",
      "building tree 53 of 100\n",
      "building tree 54 of 100\n",
      "building tree 55 of 100\n",
      "building tree 56 of 100\n",
      "building tree 57 of 100\n",
      "building tree 58 of 100\n",
      "building tree 59 of 100\n",
      "building tree 60 of 100\n",
      "building tree 61 of 100\n",
      "building tree 62 of 100\n",
      "building tree 63 of 100\n",
      "building tree 64 of 100\n",
      "building tree 65 of 100\n",
      "building tree 66 of 100\n",
      "building tree 67 of 100\n",
      "building tree 68 of 100\n",
      "building tree 69 of 100\n",
      "building tree 70 of 100\n",
      "building tree 71 of 100\n",
      "building tree 72 of 100\n",
      "building tree 73 of 100\n",
      "building tree 74 of 100\n",
      "building tree 75 of 100\n",
      "building tree 76 of 100\n",
      "building tree 77 of 100\n",
      "building tree 78 of 100\n",
      "building tree 79 of 100\n",
      "building tree 80 of 100\n",
      "building tree 81 of 100\n",
      "building tree 82 of 100\n",
      "building tree 83 of 100\n",
      "building tree 84 of 100\n",
      "building tree 85 of 100\n",
      "building tree 86 of 100\n",
      "building tree 87 of 100\n",
      "building tree 88 of 100\n",
      "building tree 89 of 100\n",
      "building tree 90 of 100\n",
      "building tree 91 of 100\n",
      "building tree 92 of 100\n",
      "building tree 93 of 100\n",
      "building tree 94 of 100\n",
      "building tree 95 of 100\n",
      "building tree 96 of 100\n",
      "building tree 97 of 100\n"
     ]
    },
    {
     "name": "stderr",
     "output_type": "stream",
     "text": [
      "[Parallel(n_jobs=1)]: Done  97 tasks      | elapsed:  7.9min\n"
     ]
    },
    {
     "name": "stdout",
     "output_type": "stream",
     "text": [
      "building tree 98 of 100\n",
      "building tree 99 of 100\n",
      "building tree 100 of 100\n"
     ]
    },
    {
     "name": "stderr",
     "output_type": "stream",
     "text": [
      "[Parallel(n_jobs=1)]: Done  24 tasks      | elapsed:    0.0s\n",
      "[Parallel(n_jobs=1)]: Done  97 tasks      | elapsed:    0.0s\n",
      "[Parallel(n_jobs=1)]: Done  24 tasks      | elapsed:    0.0s\n",
      "[Parallel(n_jobs=1)]: Done  97 tasks      | elapsed:    0.1s\n"
     ]
    },
    {
     "name": "stdout",
     "output_type": "stream",
     "text": [
      "[CV] END  r2: (train=1.000, test=0.879) rmse: (train=-0.000, test=-3.274) total time= 8.2min\n",
      "building tree 1 of 100\n",
      "building tree 2 of 100\n",
      "building tree 3 of 100\n",
      "building tree 4 of 100\n",
      "building tree 5 of 100\n",
      "building tree 6 of 100\n",
      "building tree 7 of 100\n",
      "building tree 8 of 100\n",
      "building tree 9 of 100\n",
      "building tree 10 of 100\n",
      "building tree 11 of 100\n",
      "building tree 12 of 100\n",
      "building tree 13 of 100\n",
      "building tree 14 of 100\n",
      "building tree 15 of 100\n",
      "building tree 16 of 100\n",
      "building tree 17 of 100\n",
      "building tree 18 of 100\n",
      "building tree 19 of 100\n",
      "building tree 20 of 100\n",
      "building tree 21 of 100\n",
      "building tree 22 of 100\n",
      "building tree 23 of 100\n",
      "building tree 24 of 100\n"
     ]
    },
    {
     "name": "stderr",
     "output_type": "stream",
     "text": [
      "[Parallel(n_jobs=1)]: Done  24 tasks      | elapsed:  2.2min\n"
     ]
    },
    {
     "name": "stdout",
     "output_type": "stream",
     "text": [
      "building tree 25 of 100\n",
      "building tree 26 of 100\n",
      "building tree 27 of 100\n",
      "building tree 28 of 100\n",
      "building tree 29 of 100\n",
      "building tree 30 of 100\n",
      "building tree 31 of 100\n",
      "building tree 32 of 100\n",
      "building tree 33 of 100\n",
      "building tree 34 of 100\n",
      "building tree 35 of 100\n",
      "building tree 36 of 100\n",
      "building tree 37 of 100\n",
      "building tree 38 of 100\n",
      "building tree 39 of 100\n",
      "building tree 40 of 100\n",
      "building tree 41 of 100\n",
      "building tree 42 of 100\n",
      "building tree 43 of 100\n",
      "building tree 44 of 100\n",
      "building tree 45 of 100\n",
      "building tree 46 of 100\n",
      "building tree 47 of 100\n",
      "building tree 48 of 100\n",
      "building tree 49 of 100\n",
      "building tree 50 of 100\n",
      "building tree 51 of 100\n",
      "building tree 52 of 100\n",
      "building tree 53 of 100\n",
      "building tree 54 of 100\n",
      "building tree 55 of 100\n",
      "building tree 56 of 100\n",
      "building tree 57 of 100\n",
      "building tree 58 of 100\n",
      "building tree 59 of 100\n",
      "building tree 60 of 100\n",
      "building tree 61 of 100\n",
      "building tree 62 of 100\n",
      "building tree 63 of 100\n",
      "building tree 64 of 100\n",
      "building tree 65 of 100\n",
      "building tree 66 of 100\n",
      "building tree 67 of 100\n",
      "building tree 68 of 100\n",
      "building tree 69 of 100\n",
      "building tree 70 of 100\n",
      "building tree 71 of 100\n",
      "building tree 72 of 100\n",
      "building tree 73 of 100\n",
      "building tree 74 of 100\n",
      "building tree 75 of 100\n",
      "building tree 76 of 100\n",
      "building tree 77 of 100\n",
      "building tree 78 of 100\n",
      "building tree 79 of 100\n",
      "building tree 80 of 100\n",
      "building tree 81 of 100\n",
      "building tree 82 of 100\n",
      "building tree 83 of 100\n",
      "building tree 84 of 100\n",
      "building tree 85 of 100\n",
      "building tree 86 of 100\n",
      "building tree 87 of 100\n",
      "building tree 88 of 100\n",
      "building tree 89 of 100\n",
      "building tree 90 of 100\n",
      "building tree 91 of 100\n",
      "building tree 92 of 100\n",
      "building tree 93 of 100\n",
      "building tree 94 of 100\n",
      "building tree 95 of 100\n",
      "building tree 96 of 100\n",
      "building tree 97 of 100\n"
     ]
    },
    {
     "name": "stderr",
     "output_type": "stream",
     "text": [
      "[Parallel(n_jobs=1)]: Done  97 tasks      | elapsed:  8.4min\n"
     ]
    },
    {
     "name": "stdout",
     "output_type": "stream",
     "text": [
      "building tree 98 of 100\n",
      "building tree 99 of 100\n",
      "building tree 100 of 100\n"
     ]
    },
    {
     "name": "stderr",
     "output_type": "stream",
     "text": [
      "[Parallel(n_jobs=1)]: Done  24 tasks      | elapsed:    0.0s\n",
      "[Parallel(n_jobs=1)]: Done  97 tasks      | elapsed:    0.0s\n",
      "[Parallel(n_jobs=1)]: Done  24 tasks      | elapsed:    0.0s\n",
      "[Parallel(n_jobs=1)]: Done  97 tasks      | elapsed:    0.2s\n"
     ]
    },
    {
     "name": "stdout",
     "output_type": "stream",
     "text": [
      "[CV] END  r2: (train=1.000, test=0.894) rmse: (train=-0.000, test=-3.189) total time= 8.7min\n",
      "building tree 1 of 100\n",
      "building tree 2 of 100\n",
      "building tree 3 of 100\n",
      "building tree 4 of 100\n",
      "building tree 5 of 100\n",
      "building tree 6 of 100\n",
      "building tree 7 of 100\n",
      "building tree 8 of 100\n",
      "building tree 9 of 100\n",
      "building tree 10 of 100\n",
      "building tree 11 of 100\n",
      "building tree 12 of 100\n",
      "building tree 13 of 100\n",
      "building tree 14 of 100\n",
      "building tree 15 of 100\n",
      "building tree 16 of 100\n",
      "building tree 17 of 100\n",
      "building tree 18 of 100\n",
      "building tree 19 of 100\n",
      "building tree 20 of 100\n",
      "building tree 21 of 100\n",
      "building tree 22 of 100\n",
      "building tree 23 of 100\n",
      "building tree 24 of 100\n"
     ]
    },
    {
     "name": "stderr",
     "output_type": "stream",
     "text": [
      "[Parallel(n_jobs=1)]: Done  24 tasks      | elapsed:  1.5min\n"
     ]
    },
    {
     "name": "stdout",
     "output_type": "stream",
     "text": [
      "building tree 25 of 100\n",
      "building tree 26 of 100\n",
      "building tree 27 of 100\n",
      "building tree 28 of 100\n",
      "building tree 29 of 100\n",
      "building tree 30 of 100\n",
      "building tree 31 of 100\n",
      "building tree 32 of 100\n",
      "building tree 33 of 100\n",
      "building tree 34 of 100\n",
      "building tree 35 of 100\n",
      "building tree 36 of 100\n",
      "building tree 37 of 100\n",
      "building tree 38 of 100\n",
      "building tree 39 of 100\n",
      "building tree 40 of 100\n",
      "building tree 41 of 100\n",
      "building tree 42 of 100\n",
      "building tree 43 of 100\n",
      "building tree 44 of 100\n",
      "building tree 45 of 100\n",
      "building tree 46 of 100\n",
      "building tree 47 of 100\n",
      "building tree 48 of 100\n",
      "building tree 49 of 100\n",
      "building tree 50 of 100\n",
      "building tree 51 of 100\n",
      "building tree 52 of 100\n",
      "building tree 53 of 100\n",
      "building tree 54 of 100\n",
      "building tree 55 of 100\n",
      "building tree 56 of 100\n",
      "building tree 57 of 100\n",
      "building tree 58 of 100\n",
      "building tree 59 of 100\n",
      "building tree 60 of 100\n",
      "building tree 61 of 100\n",
      "building tree 62 of 100\n",
      "building tree 63 of 100\n",
      "building tree 64 of 100\n",
      "building tree 65 of 100\n",
      "building tree 66 of 100\n",
      "building tree 67 of 100\n",
      "building tree 68 of 100\n",
      "building tree 69 of 100\n",
      "building tree 70 of 100\n",
      "building tree 71 of 100\n",
      "building tree 72 of 100\n",
      "building tree 73 of 100\n",
      "building tree 74 of 100\n",
      "building tree 75 of 100\n",
      "building tree 76 of 100\n",
      "building tree 77 of 100\n",
      "building tree 78 of 100\n",
      "building tree 79 of 100\n",
      "building tree 80 of 100\n",
      "building tree 81 of 100\n",
      "building tree 82 of 100\n",
      "building tree 83 of 100\n",
      "building tree 84 of 100\n",
      "building tree 85 of 100\n",
      "building tree 86 of 100\n",
      "building tree 87 of 100\n",
      "building tree 88 of 100\n",
      "building tree 89 of 100\n",
      "building tree 90 of 100\n",
      "building tree 91 of 100\n",
      "building tree 92 of 100\n",
      "building tree 93 of 100\n",
      "building tree 94 of 100\n",
      "building tree 95 of 100\n",
      "building tree 96 of 100\n",
      "building tree 97 of 100\n"
     ]
    },
    {
     "name": "stderr",
     "output_type": "stream",
     "text": [
      "[Parallel(n_jobs=1)]: Done  97 tasks      | elapsed:  7.1min\n"
     ]
    },
    {
     "name": "stdout",
     "output_type": "stream",
     "text": [
      "building tree 98 of 100\n",
      "building tree 99 of 100\n",
      "building tree 100 of 100\n"
     ]
    },
    {
     "name": "stderr",
     "output_type": "stream",
     "text": [
      "[Parallel(n_jobs=1)]: Done  24 tasks      | elapsed:    0.0s\n",
      "[Parallel(n_jobs=1)]: Done  97 tasks      | elapsed:    0.0s\n",
      "[Parallel(n_jobs=1)]: Done  24 tasks      | elapsed:    0.0s\n",
      "[Parallel(n_jobs=1)]: Done  97 tasks      | elapsed:    0.2s\n"
     ]
    },
    {
     "name": "stdout",
     "output_type": "stream",
     "text": [
      "[CV] END  r2: (train=1.000, test=0.872) rmse: (train=-0.000, test=-3.350) total time= 7.3min\n",
      "building tree 1 of 100\n",
      "building tree 2 of 100\n",
      "building tree 3 of 100\n",
      "building tree 4 of 100\n",
      "building tree 5 of 100\n",
      "building tree 6 of 100\n",
      "building tree 7 of 100\n",
      "building tree 8 of 100\n",
      "building tree 9 of 100\n",
      "building tree 10 of 100\n",
      "building tree 11 of 100\n",
      "building tree 12 of 100\n",
      "building tree 13 of 100\n",
      "building tree 14 of 100\n",
      "building tree 15 of 100\n",
      "building tree 16 of 100\n",
      "building tree 17 of 100\n",
      "building tree 18 of 100\n",
      "building tree 19 of 100\n",
      "building tree 20 of 100\n",
      "building tree 21 of 100\n",
      "building tree 22 of 100\n",
      "building tree 23 of 100\n",
      "building tree 24 of 100\n"
     ]
    },
    {
     "name": "stderr",
     "output_type": "stream",
     "text": [
      "[Parallel(n_jobs=1)]: Done  24 tasks      | elapsed:  2.2min\n"
     ]
    },
    {
     "name": "stdout",
     "output_type": "stream",
     "text": [
      "building tree 25 of 100\n",
      "building tree 26 of 100\n",
      "building tree 27 of 100\n",
      "building tree 28 of 100\n",
      "building tree 29 of 100\n",
      "building tree 30 of 100\n",
      "building tree 31 of 100\n",
      "building tree 32 of 100\n",
      "building tree 33 of 100\n",
      "building tree 34 of 100\n",
      "building tree 35 of 100\n",
      "building tree 36 of 100\n",
      "building tree 37 of 100\n",
      "building tree 38 of 100\n",
      "building tree 39 of 100\n",
      "building tree 40 of 100\n",
      "building tree 41 of 100\n",
      "building tree 42 of 100\n",
      "building tree 43 of 100\n",
      "building tree 44 of 100\n",
      "building tree 45 of 100\n",
      "building tree 46 of 100\n",
      "building tree 47 of 100\n",
      "building tree 48 of 100\n",
      "building tree 49 of 100\n",
      "building tree 50 of 100\n",
      "building tree 51 of 100\n",
      "building tree 52 of 100\n",
      "building tree 53 of 100\n",
      "building tree 54 of 100\n",
      "building tree 55 of 100\n",
      "building tree 56 of 100\n",
      "building tree 57 of 100\n",
      "building tree 58 of 100\n",
      "building tree 59 of 100\n",
      "building tree 60 of 100\n",
      "building tree 61 of 100\n",
      "building tree 62 of 100\n",
      "building tree 63 of 100\n",
      "building tree 64 of 100\n",
      "building tree 65 of 100\n",
      "building tree 66 of 100\n",
      "building tree 67 of 100\n",
      "building tree 68 of 100\n",
      "building tree 69 of 100\n",
      "building tree 70 of 100\n",
      "building tree 71 of 100\n",
      "building tree 72 of 100\n",
      "building tree 73 of 100\n",
      "building tree 74 of 100\n",
      "building tree 75 of 100\n",
      "building tree 76 of 100\n",
      "building tree 77 of 100\n",
      "building tree 78 of 100\n",
      "building tree 79 of 100\n",
      "building tree 80 of 100\n",
      "building tree 81 of 100\n",
      "building tree 82 of 100\n",
      "building tree 83 of 100\n",
      "building tree 84 of 100\n",
      "building tree 85 of 100\n",
      "building tree 86 of 100\n",
      "building tree 87 of 100\n",
      "building tree 88 of 100\n",
      "building tree 89 of 100\n",
      "building tree 90 of 100\n",
      "building tree 91 of 100\n",
      "building tree 92 of 100\n",
      "building tree 93 of 100\n",
      "building tree 94 of 100\n",
      "building tree 95 of 100\n",
      "building tree 96 of 100\n",
      "building tree 97 of 100\n"
     ]
    },
    {
     "name": "stderr",
     "output_type": "stream",
     "text": [
      "[Parallel(n_jobs=1)]: Done  97 tasks      | elapsed:  8.1min\n"
     ]
    },
    {
     "name": "stdout",
     "output_type": "stream",
     "text": [
      "building tree 98 of 100\n",
      "building tree 99 of 100\n",
      "building tree 100 of 100\n"
     ]
    },
    {
     "name": "stderr",
     "output_type": "stream",
     "text": [
      "[Parallel(n_jobs=1)]: Done  24 tasks      | elapsed:    0.0s\n",
      "[Parallel(n_jobs=1)]: Done  97 tasks      | elapsed:    0.0s\n",
      "[Parallel(n_jobs=1)]: Done  24 tasks      | elapsed:    0.0s\n",
      "[Parallel(n_jobs=1)]: Done  97 tasks      | elapsed:    0.3s\n"
     ]
    },
    {
     "name": "stdout",
     "output_type": "stream",
     "text": [
      "[CV] END  r2: (train=1.000, test=0.882) rmse: (train=-0.000, test=-3.228) total time= 8.4min\n",
      "building tree 1 of 100\n",
      "building tree 2 of 100\n",
      "building tree 3 of 100\n",
      "building tree 4 of 100\n",
      "building tree 5 of 100\n",
      "building tree 6 of 100\n",
      "building tree 7 of 100\n",
      "building tree 8 of 100\n",
      "building tree 9 of 100\n",
      "building tree 10 of 100\n",
      "building tree 11 of 100\n",
      "building tree 12 of 100\n",
      "building tree 13 of 100\n",
      "building tree 14 of 100\n",
      "building tree 15 of 100\n",
      "building tree 16 of 100\n",
      "building tree 17 of 100\n",
      "building tree 18 of 100\n",
      "building tree 19 of 100\n",
      "building tree 20 of 100\n",
      "building tree 21 of 100\n",
      "building tree 22 of 100\n",
      "building tree 23 of 100\n",
      "building tree 24 of 100\n"
     ]
    },
    {
     "name": "stderr",
     "output_type": "stream",
     "text": [
      "[Parallel(n_jobs=1)]: Done  24 tasks      | elapsed:  3.1min\n"
     ]
    },
    {
     "name": "stdout",
     "output_type": "stream",
     "text": [
      "building tree 25 of 100\n",
      "building tree 26 of 100\n",
      "building tree 27 of 100\n",
      "building tree 28 of 100\n",
      "building tree 29 of 100\n",
      "building tree 30 of 100\n",
      "building tree 31 of 100\n",
      "building tree 32 of 100\n",
      "building tree 33 of 100\n",
      "building tree 34 of 100\n",
      "building tree 35 of 100\n",
      "building tree 36 of 100\n",
      "building tree 37 of 100\n",
      "building tree 38 of 100\n",
      "building tree 39 of 100\n",
      "building tree 40 of 100\n",
      "building tree 41 of 100\n",
      "building tree 42 of 100\n",
      "building tree 43 of 100\n",
      "building tree 44 of 100\n",
      "building tree 45 of 100\n",
      "building tree 46 of 100\n",
      "building tree 47 of 100\n",
      "building tree 48 of 100\n",
      "building tree 49 of 100\n",
      "building tree 50 of 100\n",
      "building tree 51 of 100\n",
      "building tree 52 of 100\n",
      "building tree 53 of 100\n",
      "building tree 54 of 100\n",
      "building tree 55 of 100\n",
      "building tree 56 of 100\n",
      "building tree 57 of 100\n",
      "building tree 58 of 100\n",
      "building tree 59 of 100\n",
      "building tree 60 of 100\n",
      "building tree 61 of 100\n",
      "building tree 62 of 100\n",
      "building tree 63 of 100\n",
      "building tree 64 of 100\n",
      "building tree 65 of 100\n",
      "building tree 66 of 100\n",
      "building tree 67 of 100\n",
      "building tree 68 of 100\n",
      "building tree 69 of 100\n",
      "building tree 70 of 100\n",
      "building tree 71 of 100\n",
      "building tree 72 of 100\n",
      "building tree 73 of 100\n",
      "building tree 74 of 100\n",
      "building tree 75 of 100\n",
      "building tree 76 of 100\n",
      "building tree 77 of 100\n",
      "building tree 78 of 100\n",
      "building tree 79 of 100\n",
      "building tree 80 of 100\n",
      "building tree 81 of 100\n",
      "building tree 82 of 100\n",
      "building tree 83 of 100\n",
      "building tree 84 of 100\n",
      "building tree 85 of 100\n",
      "building tree 86 of 100\n",
      "building tree 87 of 100\n",
      "building tree 88 of 100\n",
      "building tree 89 of 100\n",
      "building tree 90 of 100\n",
      "building tree 91 of 100\n",
      "building tree 92 of 100\n",
      "building tree 93 of 100\n",
      "building tree 94 of 100\n",
      "building tree 95 of 100\n",
      "building tree 96 of 100\n",
      "building tree 97 of 100\n"
     ]
    },
    {
     "name": "stderr",
     "output_type": "stream",
     "text": [
      "[Parallel(n_jobs=1)]: Done  97 tasks      | elapsed: 10.7min\n"
     ]
    },
    {
     "name": "stdout",
     "output_type": "stream",
     "text": [
      "building tree 98 of 100\n",
      "building tree 99 of 100\n",
      "building tree 100 of 100\n",
      "Finished fitting model, total time: 3124.70 s\n"
     ]
    }
   ],
   "source": [
    "scoring = {'r2': 'r2',\n",
    "           'rmse': 'neg_root_mean_squared_error'}\n",
    "\n",
    "ti = time()\n",
    "\n",
    "scores = cross_validate(etr_cv_model, X_train_new, y_train_new, groups=groups, verbose=4,\n",
    "                        scoring=scoring, cv = gkf, return_train_score=True)\n",
    "\n",
    "etr_cv_model.fit(X_train_new, y_train_new)\n",
    "dt = time() - ti\n",
    "\n",
    "print(f'Finished fitting model, total time: {dt:0.2f} s')"
   ]
  },
  {
   "cell_type": "code",
   "execution_count": 56,
   "metadata": {},
   "outputs": [
    {
     "name": "stdout",
     "output_type": "stream",
     "text": [
      "dict_keys(['fit_time', 'score_time', 'test_r2', 'train_r2', 'test_rmse', 'train_rmse'])\n"
     ]
    },
    {
     "data": {
      "image/png": "[encoded data removed]",
      "text/plain": [
       "<Figure size 1000x1000 with 1 Axes>"
      ]
     },
     "metadata": {},
     "output_type": "display_data"
    },
    {
     "data": {
      "image/png": "[encoded data removed]",
      "text/plain": [
       "<Figure size 1000x1000 with 1 Axes>"
      ]
     },
     "metadata": {},
     "output_type": "display_data"
    }
   ],
   "source": [
    "print(scores.keys())\n",
    "\n",
    "scores_mean = {'r2': np.mean(scores['test_r2']),\n",
    "                   'rmse' : np.mean(scores['test_rmse'])}\n",
    "\n",
    "test_r2 = { '0':scores['test_r2'][0],'1':scores['test_r2'][1], '2':scores['test_r2'][2],\n",
    "           '3':scores['test_r2'][3], '4': scores['test_r2'][4]}\n",
    "\n",
    "plt.rcParams.update({'font.size': 20})\n",
    "plt.figure(figsize=(10,10))\n",
    "plt.plot(range(len(test_r2.keys())),test_r2.values(), linestyle='-', marker = 'o')\n",
    "plt.xticks(range(len(test_r2)), [str(key) for key in list(test_r2.keys())])\n",
    "plt.ylim(0.4, 1)\n",
    "plt.text(0,.6,'mean $r^2$ = {:0.3f}'.format(scores_mean['r2']), fontsize = 20, \n",
    "         bbox = dict(facecolor = 'red', alpha = 0.3))\n",
    "\n",
    "plt.xlabel('Cross validation folds')\n",
    "plt.ylabel('$r^2$')\n",
    "plt.title('$r^2$ across cross validation folds')\n",
    "\n",
    "r2_cv = plt.gcf()\n",
    "\n",
    "r2_cv.savefig(os.path.join(OUTPUT_PATH, 'etr_r2_5-fold_cv.png'), \n",
    "    bbox_inches='tight', dpi=600, transparent = False)\n",
    "\n",
    "test_rmse = { '0':np.negative(scores['test_rmse'][0]),'1':np.negative(scores['test_rmse'])[1],\n",
    "            '2':np.negative(scores['test_rmse'][2]),'3':np.negative(scores['test_rmse'][3]), \n",
    "            '4': np.negative(scores['test_rmse'])[4]}\n",
    "\n",
    "plt.rcParams.update({'font.size': 20})\n",
    "plt.figure(figsize=(10,10))\n",
    "plt.plot(range(len(test_rmse.keys())),test_rmse.values(), \n",
    "         linestyle='-', marker = 'o', color='green')\n",
    "plt.xticks(range(len(test_rmse)), [str(key) for key in list(test_rmse.keys())])\n",
    "plt.ylim(2,4)\n",
    "plt.text(0.5,2.25,'mean RMSE = {:0.3f}'.format(np.negative(scores_mean['rmse'])), fontsize = 20, \n",
    "         bbox = dict(facecolor = 'red', alpha = 0.3))\n",
    "\n",
    "plt.xlabel('Cross validation folds')\n",
    "plt.ylabel('RMSE ($\\u03bc_B$/ f.u.)')\n",
    "plt.title('RMSE across cross validation folds')\n",
    "\n",
    "rmse_cv = plt.gcf()\n",
    "rmse_cv.savefig(os.path.join(OUTPUT_PATH ,'etr_rmse_5-fold_cv.png'), \n",
    "    bbox_inches='tight', dpi=600, transparent = False)\n"
   ]
  },
  {
   "cell_type": "markdown",
   "metadata": {},
   "source": [
    "## Learning curves"
   ]
  },
  {
   "cell_type": "code",
   "execution_count": null,
   "metadata": {},
   "outputs": [],
   "source": [
    "train_sizes = [762, 1525, 2287, 3049, 3811, 4573, 5335, 6097, 6859, 7627]\n",
    "\n",
    "\n",
    "from sklearn.linear_model import LinearRegression\n",
    "from sklearn.model_selection import learning_curve\n",
    "\n",
    "ti = time()\n",
    "train_sizes, train_scores, validation_scores = learning_curve(etr_cv_model, X_train_new, y_train_new, \n",
    "                                            groups=groups,scoring='r2',\n",
    "                                            cv=gkf, \n",
    "                                            shuffle=True, random_state=RNG_SEED)\n",
    "dt = time() - ti\n",
    "\n",
    "#Plotting learning curve\n",
    "\n",
    "\n",
    "\n",
    "train_scores_mean = train_scores.mean(axis = 1)\n",
    "train_scores_std = train_scores.std(axis = 1)\n",
    "\n",
    "\n",
    "\n",
    "val_scores_mean = validation_scores.mean(axis = 1)\n",
    "val_scores_std = validation_scores.std(axis = 1)\n",
    "print('Mean training scores\\n\\n', pd.Series(train_scores_mean, index = train_sizes))\n",
    "print('\\n', '-' * 20) # separator\n",
    "print('\\nMean validation scores\\n\\n',pd.Series(val_scores_mean, index = train_sizes))\n",
    "\n",
    "\n",
    "\n",
    "plt.rcParams.update({'font.size': 20})\n",
    "plt.figure(figsize=(10,10))\n",
    "plt.plot(train_sizes, train_scores_mean, label = 'Training $r^2$')\n",
    "plt.plot(train_sizes, val_scores_mean, label = 'Validation $r^2$')\n",
    "plt.ylabel('r2 score', fontsize = 15)\n",
    "plt.xlabel('Training set size', fontsize = 14)\n",
    "plt.title('Learning curves for a linear regression model', fontsize = 18, y = 1.03)\n",
    "plt.legend()\n",
    "#plt.ylim(0,4)\n",
    "\n",
    "#plt.text(5.5,5,'gap = {:0.3f}'.format(np.negative.difference(train(validation_scores_mean[4])),\n",
    "#                                    train_scores_mean[4]), fontsize = 20, \n",
    "#         bbox = dict(facecolor = 'red', alpha = 0.3))\n",
    "\n",
    "learn_curve = plt.gcf()\n",
    "learn_curve.savefig('C:/Users/joeya/Documents/Fokwa Group/ML_tutorial/intermetallics/plots/classic_models/jarvis/learn_curve_{}_transparent.png', \n",
    "    bbox_inches='tight', dpi=600, transparent = True)"
   ]
  },
  {
   "cell_type": "markdown",
   "metadata": {},
   "source": [
    "## Hyperparameter tuning and CV"
   ]
  },
  {
   "cell_type": "code",
   "execution_count": null,
   "metadata": {},
   "outputs": [],
   "source": [
    "# Set up hyperparameter tuning grid to be implemented into CV\n",
    "scoring = {'r2': 'r2',\n",
    "           'rmse': 'neg_root_mean_squared_error'}\n",
    "\n",
    "from sklearn.model_selection import GridSearchCV\n",
    "\n",
    "params_etr = {'n_estimators':[50,1000], 'max_depth': [50, 100, 1000], 'min_samples_leaf':[100, 0.1]\n",
    "               , 'min_samples_split': [100, 0.1], 'max_features':[1.0, 0.75] }\n",
    "\n",
    "\n",
    "ti = time()\n",
    "etr_model = ExtraTreesRegressor(criterion='squared_error')\n",
    "gs_etr = GridSearchCV(estimator=etr_model, param_grid=params_etr,verbose=4,\n",
    "                    scoring = 'neg_root_mean_squared_error', cv = gkf, return_train_score=True, refit=True)\n",
    "\n",
    "dt = time() - ti\n",
    "print(f'Finished grid search, total time: {dt:0.2f} s')\n",
    "\n",
    "\n",
    "ti = time()\n",
    "gs_etr.fit(X_train_new, y_train_new,groups=groups)\n",
    "dt = time() - ti\n",
    "\n",
    "print(f'Finished fitting grid search model, total time: {dt:0.2f} s')"
   ]
  },
  {
   "cell_type": "code",
   "execution_count": null,
   "metadata": {},
   "outputs": [],
   "source": [
    "# Set up hyperparameter tuning grid to be implemented into CV\n",
    "scoring = {'r2': 'r2',\n",
    "           'rmse': 'neg_root_mean_squared_error'}\n",
    "\n",
    "from sklearn.model_selection import GridSearchCV\n",
    "\n",
    "#Try with n_estimators = 50 to reduce computational cost and the change it to 1000 in next gs step\n",
    "params_etr = {'n_estimators':[50, 100, 250, 500, 1000], 'min_samples_leaf':[3,4,5,6,7,8,9,10,11,12,13]\n",
    "               , 'min_samples_split': [5 ,10, 20, 30, 40], 'max_features':[1.0 ,0.8, 0.5,0.3]}\n",
    "\n",
    "\n",
    "ti = time()\n",
    "etr_model = ExtraTreesRegressor(criterion='squared_error', random_state=RNG_SEED)\n",
    "gs_etr = GridSearchCV(estimator=etr_model, param_grid=params_etr,verbose=4,\n",
    "                    scoring = 'neg_root_mean_squared_error', cv = gkf, return_train_score=True, refit=True)\n",
    "\n",
    "dt = time() - ti\n",
    "print(f'Finished grid search, total time: {dt:0.2f} s')\n",
    "\n",
    "\n",
    "ti = time()\n",
    "gs_etr.fit(X_train_new, y_train_new,groups=groups)\n",
    "dt = time() - ti\n",
    "\n",
    "print(f'Finished fitting grid search model, total time: {dt:0.2f} s')"
   ]
  },
  {
   "cell_type": "code",
   "execution_count": null,
   "metadata": {},
   "outputs": [],
   "source": [
    "# Convert results into a DataFrame\n",
    "gs_results = pd.DataFrame(gs_etr.cv_results_)[['params','mean_test_score','mean_train_score','rank_test_score','mean_train_score']]\n",
    "#sort by test scores\n",
    "gs_results10.sort_values('rank_test_score')\n",
    "\n",
    "mean_rmse_score = np.negative(gs_etr.best_score_)\n",
    "\n",
    "gs_results.to_csv(os.path.join(OUTPUT_PATH, 'etr_gs_results.csv'), index = False)"
   ]
  },
  {
   "cell_type": "markdown",
   "metadata": {},
   "source": [
    "## Learning curves after hyperparameter tuning"
   ]
  },
  {
   "cell_type": "code",
   "execution_count": null,
   "metadata": {},
   "outputs": [],
   "source": [
    "train_sizes = [0.1,0.2,0.3,0.4,0.5,0.6,0.7,0.8,0.9,1.0]\n",
    "\n",
    "etr_model2=ExtraTreesRegressor(n_estimators = 1000, criterion = 'squared_error',min_samples_split=10\n",
    "                               ,min_samples_leaf=5 ,max_features = 1.0, verbose=4)\n",
    "\n",
    "from sklearn.linear_model import LinearRegression\n",
    "from sklearn.model_selection import learning_curve\n",
    "\n",
    "ti = time()\n",
    "train_sizes, train_scores, validation_scores = learning_curve(etr_model2, X_train_new, y_train_new, \n",
    "                                            groups=groups,scoring='r2',\n",
    "                                            cv=gkf, \n",
    "                                            shuffle=True, random_state=RNG_SEED)\n",
    "dt = time() - ti\n",
    "\n",
    "#Plotting learning curve\n",
    "\n",
    "train_scores_mean = train_scores.mean(axis = 1)\n",
    "train_scores_std = train_scores.std(axis = 1)\n",
    "\n",
    "val_scores_mean = validation_scores.mean(axis = 1)\n",
    "val_scores_std = validation_scores.std(axis = 1)\n",
    "print('Mean training scores\\n\\n', pd.Series(train_scores_mean, index = train_sizes))\n",
    "print('\\n', '-' * 20) # separator\n",
    "print('\\nMean validation scores\\n\\n',pd.Series(val_scores_mean, index = train_sizes))\n",
    "\n",
    "\n",
    "\n",
    "plt.rcParams.update({'font.size': 20})\n",
    "plt.figure(figsize=(10,10))\n",
    "plt.plot(train_sizes, train_scores_mean, label = 'Training error')\n",
    "plt.plot(train_sizes, val_scores_mean, label = 'Validation error')\n",
    "plt.ylabel('r2 score', fontsize = 15)\n",
    "plt.xlabel('Training set size', fontsize = 14)\n",
    "plt.title('Learning curves for a linear regression model', fontsize = 18, y = 1.03)\n",
    "plt.legend()\n",
    "#plt.ylim(0,4)\n",
    "\n",
    "#plt.text(5.5,5,'gap = {:0.3f}'.format(np.negative.difference(train(validation_scores_mean[4])),\n",
    "#                                    train_scores_mean[4]), fontsize = 20, \n",
    "#         bbox = dict(facecolor = 'red', alpha = 0.3))\n",
    "\n",
    "learn_curve = plt.gcf()"
   ]
  },
  {
   "cell_type": "code",
   "execution_count": null,
   "metadata": {},
   "outputs": [],
   "source": [
    "#new model after hyperparameter tuning to make CV fold plots\n",
    "from sklearn.model_selection import cross_validate\n",
    "etr_cv_model = ExtraTreesRegressor(n_estimators = 1000, criterion = 'squared_error',min_samples_split=10\n",
    "                               ,min_samples_leaf=5 ,max_features = 1.0, verbose=4)\n",
    "\n",
    "scoring = {'r2': 'r2',\n",
    "           'rmse': 'neg_root_mean_squared_error'}\n",
    "\n",
    "ti = time()\n",
    "\n",
    "scores = cross_validate(etr_cv_model, X_train_new, y_train_new, groups=groups, verbose=4,\n",
    "                        scoring=scoring, cv = gkf, return_train_score=True)\n",
    "\n",
    "etr_cv_model.fit(X_train_new, y_train_new)\n",
    "dt = time() - ti\n",
    "\n",
    "print(f'Finished fitting model, total time: {dt:0.2f} s')\n",
    "\n",
    "print(scores.keys())"
   ]
  },
  {
   "cell_type": "code",
   "execution_count": null,
   "metadata": {},
   "outputs": [],
   "source": [
    "print(scores['test_r2'])\n",
    "UNTRIMMED_train_scores = pd.DataFrame()\n",
    "UNTRIMMED_train_scores['test_r2']=scores['test_r2']\n",
    "#UNTRIMMED_train_scores_r2.to_csv('C:/Users/joeya/Documents/Fokwa Group/ML_tutorial/Intermetallics/tables&lists/jarvis/UNTRIMMED_test_r2.csv', index=True)\n",
    "\n",
    "scores_mean = {'r2': np.mean(scores['test_r2']),\n",
    "                   'rmse' : np.mean(scores['test_rmse'])}\n",
    "\n",
    "test_r2 = { '0':scores['test_r2'][0],'1':scores['test_r2'][1], '2':scores['test_r2'][2],\n",
    "           '3':scores['test_r2'][3], '4': scores['test_r2'][4]}\n",
    "\n",
    "plt.rcParams.update({'font.size': 25})\n",
    "plt.figure(figsize=(10,10))\n",
    "plt.plot(range(len(test_r2.keys())),test_r2.values(), linestyle='-', marker = 'o')\n",
    "plt.xticks(range(len(test_r2)), [str(key) for key in list(test_r2.keys())])\n",
    "plt.ylim(0.7, 1)\n",
    "plt.text(0, 0.75,'mean $r^2$ = {:0.3f}'.format(scores_mean['r2']), fontsize = 25, \n",
    "         bbox = dict(facecolor = 'red', alpha = 0.3))\n",
    "\n",
    "plt.xlabel('Cross validation folds')\n",
    "plt.ylabel('$r^2$ (arb. units)' )\n",
    "plt.title('$r^2$ across cross validation folds')\n",
    "\n",
    "r2_cv = plt.gcf()\n",
    "\n",
    "test_rmse = { '0':np.negative(scores['test_rmse'][0]),'1':np.negative(scores['test_rmse'])[1],\n",
    "            '2':np.negative(scores['test_rmse'][2]),'3':np.negative(scores['test_rmse'][3]), \n",
    "            '4': np.negative(scores['test_rmse'])[4]}\n",
    "\n",
    "UNTRIMMED_train_scores['test_rmse']=scores['test_rmse']\n",
    "\n",
    "plt.rcParams.update({'font.size': 25})\n",
    "plt.figure(figsize=(10,10))\n",
    "plt.plot(range(len(test_rmse.keys())),test_rmse.values(), \n",
    "         linestyle='-', marker = 'o', color='green')\n",
    "plt.xticks(range(len(test_rmse)), [str(key) for key in list(test_rmse.keys())])\n",
    "plt.ylim(1, 5)\n",
    "plt.text(0,2.0,'mean RMSE = {:0.3f}'.format(np.negative(scores_mean['rmse'])), fontsize = 25, \n",
    "         bbox = dict(facecolor = 'red', alpha = 0.3))\n",
    "\n",
    "plt.xlabel('Cross validation folds')\n",
    "plt.ylabel('RMSE ($\\u03bc_B$/ f.u.)', fontsize=25)\n",
    "plt.title('RMSE across cross validation folds')\n",
    "\n",
    "rmse_cv = plt.gcf()"
   ]
  },
  {
   "cell_type": "markdown",
   "metadata": {},
   "source": [
    "# Recursive Feature Elimination with Cross Validation"
   ]
  },
  {
   "cell_type": "code",
   "execution_count": null,
   "metadata": {},
   "outputs": [],
   "source": [
    "#%% Use RFECV to determine the optimal number of features\n",
    "from sklearn.feature_selection import RFECV\n",
    "etr_estimator = ExtraTreesRegressor(n_estimators = 50, criterion = 'squared_error',\n",
    "                 min_samples_split=10,min_samples_leaf=5 ,max_features = 1.0)\n",
    "\n",
    "rfecv = RFECV(estimator = etr_estimator, step=0.01, cv =gkf, scoring = 'neg_mean_squared_error', \n",
    "              min_features_to_select = 80,verbose = 3)\n",
    "\n",
    "fit = rfecv.fit(X_train_new, y_train_new, groups = groups)"
   ]
  },
  {
   "cell_type": "code",
   "execution_count": null,
   "metadata": {},
   "outputs": [],
   "source": [
    "print(\"Optimal number of features : %d\" % rfecv.n_features_)\n",
    "\n",
    "n_scores= len(rfecv.cv_results_['mean_test_score'])\n",
    "plt.figure()\n",
    "plt.xlabel(\"Number of features selected\")\n",
    "plt.ylabel('Mean test neg MSE')\n",
    "plt.errorbar(\n",
    "    range(5, n_scores + 5),\n",
    "    rfecv.cv_results_['mean_test_score'],\n",
    "    yerr=rfecv.cv_results_['std_test_score']\n",
    "    )\n",
    "plt.title(\"Recursive Feature Elimination \\nwith correlated features\")\n",
    "\n",
    "opt_nFeatures = rfecv.n_features_\n",
    "\n",
    "rfecv_plot = plt.gcf()"
   ]
  },
  {
   "cell_type": "code",
   "execution_count": null,
   "metadata": {},
   "outputs": [],
   "source": [
    "#Use recursive feature selection class in Sklearn to cut down the number of features.\n",
    "from sklearn.feature_selection import RFE \n",
    "\n",
    "etr_estimator = ExtraTreesRegressor(n_estimators = 100, criterion = 'squared_error',\n",
    "                 min_samples_split=10,min_samples_leaf=6 ,max_features = 1.0)\n",
    "\n",
    "#define the method\n",
    "rfe = RFE(estimator = etr_estimator, n_features_to_select = opt_nFeatures, step=0.01, verbose = 4)\n",
    "\n",
    "#fit the model\n",
    "rfe.fit(X_train_new, y_train_new)"
   ]
  },
  {
   "cell_type": "code",
   "execution_count": null,
   "metadata": {},
   "outputs": [],
   "source": [
    "#%% Try cutting down to 11:1 observations:features ratio\n",
    "\n",
    "# Make a new df with train and val and then featurize it.\n",
    "\n",
    "df_train_trim= pd.concat([df_train, df_val], ignore_index = True)\n",
    "\n",
    "#Get the bottom i features and remove them from the the train/val/test dataset\n",
    "i = 1615\n",
    "dropped_features = sorted_featureimportances_df['Feature'].tail(i).values.tolist()\n",
    "#df_dropped_features = pd.DataFrame(dropped_features)\n",
    "#df_dropped_features.to_csv('C:/Users/joeya/Documents/Fokwa Group/ML_tutorial/Intermetallics/tables&lists/jarvis/Set7/dropped_features.csv', index=False)"
   ]
  },
  {
   "cell_type": "code",
   "execution_count": null,
   "metadata": {},
   "outputs": [],
   "source": [
    "X_train_trim_unscaled, y_train_trim, formulae_train_new, skipped_train_new = composition.generate_features(df_train_trim, elem_prop='magpie', drop_duplicates=False, extend_features=True, sum_feat=True)\n",
    "\n",
    "X_train_trim_unscaled = X_train_trim_unscaled.drop(axis=1, labels=dropped_features)\n",
    "X_test_trim_unscaled = X_test_unscaled.drop(axis=1, labels=dropped_features)\n",
    "\n",
    "X_test_unscaled, y_test, formulae_test, skipped_test = composition.generate_features(df_test, elem_prop='magpie', drop_duplicates=False, extend_features=True, sum_feat=True)\n",
    "\n",
    "X_test = scaler.fit_transform(X_test_unscaled)\n",
    "X_test = normalize(X_test)\n",
    "\n",
    "columns_trim=X_train_trim_unscaled.columns.values.tolist()\n",
    "df_kept_columns = pd.DataFrame(columns_trim)\n",
    "df_kept_columns.to_csv(os.path.join(OUTPUT_PATH,'kept_features.csv'),  index = False)"
   ]
  },
  {
   "cell_type": "markdown",
   "metadata": {},
   "source": [
    "# Final Model"
   ]
  },
  {
   "cell_type": "code",
   "execution_count": null,
   "metadata": {},
   "outputs": [],
   "source": [
    "scaler = StandardScaler()\n",
    "\n",
    "X_train_trim = scaler.fit_transform(X_train_trim_unscaled)\n",
    "\n",
    "X_train_trim= normalize(X_train_trim)\n",
    "\n",
    "X_test_trim = scaler.fit_transform(X_test_trim_unscaled)\n",
    "X_test_trim = normalize(X_test_trim)"
   ]
  },
  {
   "cell_type": "code",
   "execution_count": null,
   "metadata": {},
   "outputs": [],
   "source": [
    "# Set up hyperparameter tuning for final model\n",
    "scoring = {'r2': 'r2',\n",
    "           'rmse': 'neg_root_mean_squared_error'}\n",
    "\n",
    "from sklearn.model_selection import GridSearchCV\n",
    "\n",
    "#Try with n_estimators = 50 to reduce computational cost and the change it to 1000 in next gs step\n",
    "params_etr = {'n_estimators':[50], 'min_samples_leaf':[5,6,7,8,9,10,11,12]\n",
    "               , 'min_samples_split': [5, 10, 15, 20, 30, 40]  }\n",
    "\n",
    "\n",
    "ti = time()\n",
    "etr_model2_tune = ExtraTreesRegressor(criterion='squared_error', random_state=RNG_SEED)\n",
    "gs_etr = GridSearchCV(estimator=etr_model2_tune, param_grid=params_etr,verbose=4,\n",
    "                    scoring = 'neg_root_mean_squared_error', cv = gkf, return_train_score=True, refit=True)\n",
    "\n",
    "dt = time() - ti\n",
    "print(f'Finished grid search, total time: {dt:0.2f} s')\n",
    "\n",
    "\n",
    "ti = time()\n",
    "gs_etr.fit(X_train_trim, y_train_trim,groups=groups)\n",
    "dt = time() - ti\n",
    "\n",
    "print(f'Finished fitting grid search model, total time: {dt:0.2f} s')\n",
    "\n",
    "#Convert results into a DataFrame\n",
    "gs_final_results = pd.DataFrame(gs_etr.cv_results_)[['params','mean_test_score','mean_train_score','rank_test_score','mean_train_score']]\n",
    "#sort by test scores\n",
    "gs_final_results.sort_values('rank_test_score')\n",
    "\n",
    "mean_rmse_score = np.negative(gs_etr.best_score_)\n",
    "\n",
    "gs_final_results.to_csv(os.path.join(OUTPUT_PATH,'gs_final_results.csv'), index = False)"
   ]
  },
  {
   "cell_type": "code",
   "execution_count": null,
   "metadata": {},
   "outputs": [],
   "source": [
    "etr_cv_model2 = ExtraTreesRegressor(n_estimators = 1000, criterion = 'squared_error',min_samples_split=10\n",
    "                               ,min_samples_leaf=5 ,max_features = 1.0, verbose=4)\n",
    "\n",
    "scoring = {'r2': 'r2',\n",
    "           'rmse': 'neg_root_mean_squared_error'}\n",
    "\n",
    "ti = time()\n",
    "\n",
    "scores = cross_validate(etr_cv_model2, X_train_trim, y_train_trim, groups=groups, verbose=4,\n",
    "                        scoring=scoring, cv = gkf, return_train_score=True)\n",
    "\n",
    "etr_cv_model2.fit(X_train_trim, y_train_trim)\n",
    "dt = time() - ti\n",
    "\n",
    "print(f'Finished fitting model, total time: {dt:0.2f} s')\n",
    "\n",
    "import pickle\n",
    "\n",
    "filename = os.path.join(MODELS_PATH , 'etr7_trimmed_hyperparameters_tuned.pickle')\n",
    "pickle.dump(etr_cv_model2, open(filename, 'wb'))"
   ]
  },
  {
   "cell_type": "code",
   "execution_count": null,
   "metadata": {},
   "outputs": [],
   "source": [
    "#Results for final model\n",
    "print(scores.keys())\n",
    "TRIMMED_train_scores = pd.DataFrame()\n",
    "TRIMMED_train_scores['test_r2']=scores['test_r2']\n",
    "TRIMMED_train_scores['test_rmse']=scores['test_rmse']\n",
    "UNTRIMMED_train_scores.to_csv(os.path.join(OUTPUT_PATH ,'etr_TRIMMED_test_rawData.csv', index=False)\n",
    "\n",
    "scores_mean = {'r2': np.mean(scores['test_r2']),\n",
    "                   'rmse' : np.mean(scores['test_rmse'])}\n",
    "\n",
    "test_r2 = { '0':scores['test_r2'][0],'1':scores['test_r2'][1], '2':scores['test_r2'][2],\n",
    "           '3':scores['test_r2'][3], '4': scores['test_r2'][4]}\n",
    "\n",
    "plt.rcParams.update({'font.size': 25})\n",
    "plt.figure(figsize=(10,10))\n",
    "plt.plot(range(len(test_r2.keys())),test_r2.values(), linestyle='-', marker = 'o')\n",
    "plt.xticks(range(len(test_r2)), [str(key) for key in list(test_r2.keys())])\n",
    "plt.ylim(0.7, 1)\n",
    "plt.text(0,.75,'mean $r^2$ = {:0.3f}'.format(scores_mean['r2']), fontsize = 25, \n",
    "         bbox = dict(facecolor = 'red', alpha = 0.3))\n",
    "\n",
    "plt.xlabel('Cross validation folds')\n",
    "plt.ylabel('$r^2$')\n",
    "plt.title('$r^2$ across cross validation folds')\n",
    "\n",
    "r2_cv = plt.gcf()\n",
    "\n",
    "test_rmse = { '0':np.negative(scores['test_rmse'][0]),'1':np.negative(scores['test_rmse'])[1],\n",
    "            '2':np.negative(scores['test_rmse'][2]),'3':np.negative(scores['test_rmse'][3]), \n",
    "            '4': np.negative(scores['test_rmse'])[4]}\n",
    "\n",
    "plt.rcParams.update({'font.size': 25})\n",
    "plt.figure(figsize=(10,10))\n",
    "plt.plot(range(len(test_rmse.keys())),test_rmse.values(), \n",
    "         linestyle='-', marker = 'o', color='green')\n",
    "plt.xticks(range(len(test_rmse)), [str(key) for key in list(test_rmse.keys())])\n",
    "plt.ylim(1, 5)\n",
    "plt.text(0.2,2,'mean RMSE = {:0.3f}'.format(np.negative(scores_mean['rmse'])), fontsize = 25, \n",
    "         bbox = dict(facecolor = 'red', alpha = 0.3))\n",
    "\n",
    "plt.xlabel('Cross validation folds')\n",
    "plt.ylabel('RMSE ($\\u03bc_B$/ f.u.)')\n",
    "plt.title('RMSE across cross validation folds')\n",
    "\n",
    "rmse_cv = plt.gcf()"
   ]
  },
  {
   "cell_type": "markdown",
   "metadata": {},
   "source": [
    "## learning curve for final model"
   ]
  },
  {
   "cell_type": "code",
   "execution_count": null,
   "metadata": {},
   "outputs": [],
   "source": [
    "train_sizes = np.linspace(0.1,1.0,10)\n",
    "\n",
    "etr_model2=ExtraTreesRegressor(n_estimators = 1000, criterion = 'squared_error',min_samples_split=10\n",
    "                               ,min_samples_leaf=5 ,max_features = 1.0, verbose=4)\n",
    "\n",
    "from sklearn.linear_model import LinearRegression\n",
    "from sklearn.model_selection import learning_curve\n",
    "\n",
    "ti = time()\n",
    "train_sizes, train_scores, validation_scores = learning_curve(etr_model2, X_train_trim, y_train_trim, \n",
    "                                            groups=groups,scoring='r2',\n",
    "                                            cv=gkf, \n",
    "                                            shuffle=True, random_state=RNG_SEED)\n",
    "dt = time() - ti"
   ]
  },
  {
   "cell_type": "code",
   "execution_count": null,
   "metadata": {},
   "outputs": [],
   "source": [
    "train_scores_mean = train_scores.mean(axis = 1)\n",
    "train_scores_std = train_scores.std(axis = 1)\n",
    "\n",
    "\n",
    "val_scores_mean = validation_scores.mean(axis = 1)\n",
    "val_scores_std = validation_scores.std(axis = 1)\n",
    "print('Mean training scores\\n\\n', pd.Series(train_scores_mean, index = train_sizes))\n",
    "print('\\n', '-' * 20) # separator\n",
    "print('\\nMean validation scores\\n\\n',pd.Series(val_scores_mean, index = train_sizes))\n",
    "\n",
    "plt.rcParams.update({'font.size': 25})\n",
    "plt.figure(figsize=(10,10))\n",
    "plt.plot(train_sizes, train_scores_mean, label = 'Training $r^2$')\n",
    "plt.plot(train_sizes, val_scores_mean, label = 'Validation $r^2$')\n",
    "plt.ylabel('r2 score', fontsize = 25)\n",
    "plt.xlabel('Training set size', fontsize = 25)\n",
    "plt.title('Learning curves for a linear regression model', fontsize = 25, y = 1.03)\n",
    "plt.legend()\n",
    "#plt.ylim(0,4)\n",
    "\n",
    "#plt.text(5.5,5,'gap = {:0.3f}'.format(np.negative.difference(train(validation_scores_mean[4])),\n",
    "#                                    train_scores_mean[4]), fontsize = 20, \n",
    "#         bbox = dict(facecolor = 'red', alpha = 0.3))\n",
    "\n",
    "learn_curve = plt.gcf()\n"
   ]
  },
  {
   "cell_type": "markdown",
   "metadata": {},
   "source": [
    "## Model visualizations"
   ]
  },
  {
   "cell_type": "code",
   "execution_count": null,
   "metadata": {},
   "outputs": [],
   "source": [
    "#Getting most important features\n",
    "\n",
    "import plotly\n",
    "import plotly.express as px\n",
    "import plotly.graph_objects as go\n",
    "import plotly.io as pio\n",
    "pio.renderers.default='browser'\n",
    "\n",
    "\n",
    "importances_list = etr_cv_model2.feature_importances_.tolist()\n",
    "features_list = X_train_trim_unscaled.columns.values.tolist()\n",
    "featureimportances_dict = dict(zip(features_list, importances_list))\n",
    "sorted_featureimportances_tuple = sorted(featureimportances_dict.items(), key=lambda x:x[1], reverse=True)\n",
    "sorted_featureimportances_dict = {key: value for key, value in sorted_featureimportances_tuple}\n",
    "sorted_featureimportances_df = pd.DataFrame.from_dict([sorted_featureimportances_dict]).T\n",
    "sorted_featureimportances_df['Feature'] = sorted_featureimportances_df.index\n",
    "sorted_featureimportances_df.columns = ['Importance', 'Feature']\n",
    "\n",
    "sorted_featureimportances_df.to_csv(os.path.join(OUTPUT_PATH,'etr_feature_importance_table.csv'), index=True)"
   ]
  },
  {
   "cell_type": "code",
   "execution_count": null,
   "metadata": {},
   "outputs": [],
   "source": [
    "#Plotting the most important x features\n",
    "importances = etr_cv_model2.feature_importances_\n",
    "included = X_train_trim_unscaled.columns.values\n",
    "indices = np.argsort(importances)[::-1]\n",
    "\n",
    "fig_bar1  = px.bar(\n",
    "    x = included[indices][0:20],\n",
    "    y = importances[indices][0:20],\n",
    "    title = \"Feature importances of model\",\n",
    "    labels = {\"x\": \"Feature\", \"y\": \"Importance\"}\n",
    "    )\n",
    "#fig_bar.show()\n",
    "plotly.offline.plot(fig_bar1, filename=os.path.join(OUTPUT_PATH,'etr_final_top_features.html'))\n",
    "\n",
    "#plotting the least important features\n",
    "\n",
    "fig_bar2 = px.bar(\n",
    "    x = included[indices][-20:],\n",
    "    y = importances[indices][-20:],\n",
    "    title = \"Least important features of model\",\n",
    "    labels = {\"x\": \"Feature\", \"y\": \"Importance\"}\n",
    "    )\n",
    "plotly.offline.plot(fig_bar2, filename=os.path.join(OUTPUT_PATH, 'etr_final_bottom_features.html'))"
   ]
  },
  {
   "cell_type": "markdown",
   "metadata": {},
   "source": [
    "# Testing"
   ]
  },
  {
   "cell_type": "code",
   "execution_count": null,
   "metadata": {},
   "outputs": [],
   "source": [
    "#Define plotting function\n",
    "from sklearn.metrics import r2_score\n",
    "\n",
    "def plot_pred_act(act, pred, model, reg_line=True, label=''):\n",
    "    xy_max = np.max([np.max(act), np.max(pred)])\n",
    "\n",
    "    plot = plt.figure(figsize=(6,6))\n",
    "    plt.plot(act, pred, 'o', ms=9, mec='k', mfc='silver', alpha=0.4)\n",
    "    plt.plot([0, xy_max], [0, xy_max], 'k--', label='ideal')\n",
    "    if reg_line:\n",
    "        polyfit = np.polyfit(act, pred, deg=1)\n",
    "        reg_ys = np.poly1d(polyfit)(np.unique(act))\n",
    "        plt.plot(np.unique(act), reg_ys, alpha=0.8, label='linear fit')\n",
    "    plt.axis('scaled')\n",
    "    plt.xlabel(f'Actual {label}')\n",
    "    plt.ylabel(f'Predicted {label}')\n",
    "    plt.title(f'{type(model).__name__}, $r^2: {r2_score(act, pred):0.4f}$')\n",
    "    plt.legend(loc='upper left')\n",
    "    \n",
    "    return plot\n",
    "\n",
    "#helper function(s)\n",
    "\n",
    "def evaluate_model(model, X, y_act):\n",
    "    y_pred = model.predict(X)\n",
    "    r2 = r2_score(y_act, y_pred)\n",
    "    mae = mean_absolute_error(y_act, y_pred)\n",
    "    rmse_val = mean_squared_error(y_act, y_pred, squared=False)\n",
    "    return r2, mae, rmse_val"
   ]
  },
  {
   "cell_type": "code",
   "execution_count": null,
   "metadata": {},
   "outputs": [],
   "source": [
    "filename = os.path.join(MODELS_PATH , 'etr7_trimmed_hyperparameters_tuned.pickle')\n",
    "loaded_model =pickle.load(open(filename, 'rb'))\n",
    "\n",
    "y_pred_test = loaded_model.predict(X_test_trim)\n",
    "\n",
    "r2, mae, rmse = evaluate_model(loaded_model, X_test_trim, y_test)\n",
    "print(f'r2: {r2:0.4f}')\n",
    "print(f'mae: {mae:0.4f}')\n",
    "print(f'rmse: {rmse:0.4f}')\n",
    "\n",
    "plot = plot_pred_act(y_test, y_pred_test, loaded_model, reg_line=True, label='Magnetization ($\\u03bc_B$/ f.u.)')"
   ]
  },
  {
   "cell_type": "markdown",
   "metadata": {},
   "source": [
    "## Residuals"
   ]
  },
  {
   "cell_type": "code",
   "execution_count": null,
   "metadata": {},
   "outputs": [],
   "source": [
    "residuals = y_test - y_pred_test\n",
    "\n",
    "plt.figure(figsize=(10, 5))\n",
    "sns.histplot(residuals, kde=True, color='blue', bins=30)\n",
    "plt.title('Histogram of Residuals')\n",
    "plt.xlabel('Residuals ($\\u03bc_B$/f.u.)')\n",
    "plt.ylabel('Frequency')\n",
    "plt.axvline(x=0, color='red', linestyle='--')\n",
    "plt.show()\n",
    "\n",
    "plt.savefig(os.path.join(OUTPUT_PATH, 'histogram_of_residuals_TRIMMED_dataset.png'), \n",
    "            bbox_inches='tight', dpi=600, transparent = False)\n",
    "\n",
    "plt.figure(figsize=(10, 5))\n",
    "plt.plot(residuals, marker='o', linestyle='', alpha=0.7)\n",
    "plt.axhline(0, color='red', linestyle='--', label='Zero Residual Line')\n",
    "plt.title('Residuals over Index Order')\n",
    "plt.xlabel('Index')\n",
    "plt.ylabel('Residuals ($\\u03bc_B$/f.u.)')\n",
    "plt.legend()\n",
    "\n",
    "plt.savefig(os.path.join(OUTPUT_PATH, 'residuals_test_dataset.png'), \n",
    "            bbox_inches='tight', dpi=600, transparent = False)"
   ]
  }
 ],
 "metadata": {
  "kernelspec": {
   "display_name": "env",
   "language": "python",
   "name": "python3"
  },
  "language_info": {
   "codemirror_mode": {
    "name": "ipython",
    "version": 3
   },
   "file_extension": ".py",
   "mimetype": "text/x-python",
   "name": "python",
   "nbconvert_exporter": "python",
   "pygments_lexer": "ipython3",
   "version": "3.12.5"
  }
 },
 "nbformat": 4,
 "nbformat_minor": 2
}
